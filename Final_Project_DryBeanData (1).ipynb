{
  "nbformat": 4,
  "nbformat_minor": 0,
  "metadata": {
    "colab": {
      "name": "Final_Project_DryBeanData.ipynb",
      "provenance": [],
      "collapsed_sections": [],
      "toc_visible": true
    },
    "kernelspec": {
      "name": "python3",
      "display_name": "Python 3"
    },
    "language_info": {
      "name": "python"
    }
  },
  "cells": [
    {
      "cell_type": "markdown",
      "metadata": {
        "id": "WfbgmFWRS4xU"
      },
      "source": [
        ""
      ]
    },
    {
      "cell_type": "markdown",
      "metadata": {
        "id": "W90NSqnW4Qwx"
      },
      "source": [
        "# Dry Bean Data Classification Project\n",
        "## Group Members: Tiru Wube, Goutham kakani, Chetan Desai\n",
        "\n",
        "INTRODUCTION:\n",
        "Dry bean is originally from America.In this project there are seven Classes \n",
        "The Primary aim of this study is to provide a method to obtain uniform seed varieties by using machine learning algorithms to classify them with better accuracy than the existing one.\n",
        "\n",
        "\n",
        "Group Members: Tiru Wube,Goutham kakani,Chetan Desai"
      ]
    },
    {
      "cell_type": "markdown",
      "metadata": {
        "id": "tX017iIfJz_x"
      },
      "source": [
        ""
      ]
    },
    {
      "cell_type": "code",
      "metadata": {
        "id": "C2TNQGgj4Ned"
      },
      "source": [
        "#Imported the necessary libraries\n",
        "import numpy as np\n",
        "import pandas as pd\n",
        "import tensorflow as tf\n",
        "import matplotlib.pyplot as plt\n",
        "import os\n",
        "from sklearn.model_selection import GridSearchCV\n",
        "from sklearn.svm import SVC\n",
        "import seaborn as sns \n",
        "from sklearn.linear_model import LogisticRegression\n",
        "from sklearn.preprocessing import LabelEncoder\n",
        "from imblearn.over_sampling import SMOTE\n",
        "from matplotlib.colors import ListedColormap\n",
        "from sklearn import tree\n",
        "from sklearn.decomposition import PCA\n",
        "from sklearn.ensemble import RandomForestClassifier\n",
        "from sklearn.feature_selection import SelectKBest\n",
        "from sklearn.feature_selection import chi2\n",
        "from sklearn.ensemble import ExtraTreesClassifier\n",
        "from sklearn.ensemble import BaggingClassifier\n",
        "from sklearn.tree import DecisionTreeClassifier\n",
        "from sklearn.model_selection import cross_val_score\n",
        "from sklearn.model_selection import validation_curve\n",
        "from sklearn.pipeline import make_pipeline\n",
        "from sklearn.metrics import confusion_matrix\n",
        "from keras.models import Sequential\n",
        "from keras.layers import Dense\n",
        "from sklearn.metrics import classification_report\n",
        "from sklearn.model_selection import StratifiedKFold\n"
      ],
      "execution_count": null,
      "outputs": []
    },
    {
      "cell_type": "markdown",
      "metadata": {
        "id": "LgbuqUZe4HSY"
      },
      "source": [
        "#1 Exploratory Data Analysis"
      ]
    },
    {
      "cell_type": "code",
      "metadata": {
        "colab": {
          "base_uri": "https://localhost:8080/",
          "height": 215
        },
        "id": "j9vXKD1uay0I",
        "outputId": "4b31473e-578c-4589-897f-bc2a693aefcd"
      },
      "source": [
        "#The URL link to read the data set from\n",
        "url = \"https://drive.google.com/uc?export=download&id=1zmjnJv5n5ZLVQUlZ95MdrjYzCPwtSkjE\"\n",
        "Bean_df = pd.read_excel(url)\n",
        "Bean_df.head()"
      ],
      "execution_count": null,
      "outputs": [
        {
          "output_type": "execute_result",
          "data": {
            "text/html": [
              "<div>\n",
              "<style scoped>\n",
              "    .dataframe tbody tr th:only-of-type {\n",
              "        vertical-align: middle;\n",
              "    }\n",
              "\n",
              "    .dataframe tbody tr th {\n",
              "        vertical-align: top;\n",
              "    }\n",
              "\n",
              "    .dataframe thead th {\n",
              "        text-align: right;\n",
              "    }\n",
              "</style>\n",
              "<table border=\"1\" class=\"dataframe\">\n",
              "  <thead>\n",
              "    <tr style=\"text-align: right;\">\n",
              "      <th></th>\n",
              "      <th>Area</th>\n",
              "      <th>Perimeter</th>\n",
              "      <th>MajorAxisLength</th>\n",
              "      <th>MinorAxisLength</th>\n",
              "      <th>AspectRation</th>\n",
              "      <th>Eccentricity</th>\n",
              "      <th>ConvexArea</th>\n",
              "      <th>EquivDiameter</th>\n",
              "      <th>Extent</th>\n",
              "      <th>Solidity</th>\n",
              "      <th>roundness</th>\n",
              "      <th>Compactness</th>\n",
              "      <th>ShapeFactor1</th>\n",
              "      <th>ShapeFactor2</th>\n",
              "      <th>ShapeFactor3</th>\n",
              "      <th>ShapeFactor4</th>\n",
              "      <th>Class</th>\n",
              "    </tr>\n",
              "  </thead>\n",
              "  <tbody>\n",
              "    <tr>\n",
              "      <th>0</th>\n",
              "      <td>28395</td>\n",
              "      <td>610.291</td>\n",
              "      <td>208.178117</td>\n",
              "      <td>173.888747</td>\n",
              "      <td>1.197191</td>\n",
              "      <td>0.549812</td>\n",
              "      <td>28715</td>\n",
              "      <td>190.141097</td>\n",
              "      <td>0.763923</td>\n",
              "      <td>0.988856</td>\n",
              "      <td>0.958027</td>\n",
              "      <td>0.913358</td>\n",
              "      <td>0.007332</td>\n",
              "      <td>0.003147</td>\n",
              "      <td>0.834222</td>\n",
              "      <td>0.998724</td>\n",
              "      <td>SEKER</td>\n",
              "    </tr>\n",
              "    <tr>\n",
              "      <th>1</th>\n",
              "      <td>28734</td>\n",
              "      <td>638.018</td>\n",
              "      <td>200.524796</td>\n",
              "      <td>182.734419</td>\n",
              "      <td>1.097356</td>\n",
              "      <td>0.411785</td>\n",
              "      <td>29172</td>\n",
              "      <td>191.272750</td>\n",
              "      <td>0.783968</td>\n",
              "      <td>0.984986</td>\n",
              "      <td>0.887034</td>\n",
              "      <td>0.953861</td>\n",
              "      <td>0.006979</td>\n",
              "      <td>0.003564</td>\n",
              "      <td>0.909851</td>\n",
              "      <td>0.998430</td>\n",
              "      <td>SEKER</td>\n",
              "    </tr>\n",
              "    <tr>\n",
              "      <th>2</th>\n",
              "      <td>29380</td>\n",
              "      <td>624.110</td>\n",
              "      <td>212.826130</td>\n",
              "      <td>175.931143</td>\n",
              "      <td>1.209713</td>\n",
              "      <td>0.562727</td>\n",
              "      <td>29690</td>\n",
              "      <td>193.410904</td>\n",
              "      <td>0.778113</td>\n",
              "      <td>0.989559</td>\n",
              "      <td>0.947849</td>\n",
              "      <td>0.908774</td>\n",
              "      <td>0.007244</td>\n",
              "      <td>0.003048</td>\n",
              "      <td>0.825871</td>\n",
              "      <td>0.999066</td>\n",
              "      <td>SEKER</td>\n",
              "    </tr>\n",
              "    <tr>\n",
              "      <th>3</th>\n",
              "      <td>30008</td>\n",
              "      <td>645.884</td>\n",
              "      <td>210.557999</td>\n",
              "      <td>182.516516</td>\n",
              "      <td>1.153638</td>\n",
              "      <td>0.498616</td>\n",
              "      <td>30724</td>\n",
              "      <td>195.467062</td>\n",
              "      <td>0.782681</td>\n",
              "      <td>0.976696</td>\n",
              "      <td>0.903936</td>\n",
              "      <td>0.928329</td>\n",
              "      <td>0.007017</td>\n",
              "      <td>0.003215</td>\n",
              "      <td>0.861794</td>\n",
              "      <td>0.994199</td>\n",
              "      <td>SEKER</td>\n",
              "    </tr>\n",
              "    <tr>\n",
              "      <th>4</th>\n",
              "      <td>30140</td>\n",
              "      <td>620.134</td>\n",
              "      <td>201.847882</td>\n",
              "      <td>190.279279</td>\n",
              "      <td>1.060798</td>\n",
              "      <td>0.333680</td>\n",
              "      <td>30417</td>\n",
              "      <td>195.896503</td>\n",
              "      <td>0.773098</td>\n",
              "      <td>0.990893</td>\n",
              "      <td>0.984877</td>\n",
              "      <td>0.970516</td>\n",
              "      <td>0.006697</td>\n",
              "      <td>0.003665</td>\n",
              "      <td>0.941900</td>\n",
              "      <td>0.999166</td>\n",
              "      <td>SEKER</td>\n",
              "    </tr>\n",
              "  </tbody>\n",
              "</table>\n",
              "</div>"
            ],
            "text/plain": [
              "    Area  Perimeter  MajorAxisLength  ...  ShapeFactor3  ShapeFactor4  Class\n",
              "0  28395    610.291       208.178117  ...      0.834222      0.998724  SEKER\n",
              "1  28734    638.018       200.524796  ...      0.909851      0.998430  SEKER\n",
              "2  29380    624.110       212.826130  ...      0.825871      0.999066  SEKER\n",
              "3  30008    645.884       210.557999  ...      0.861794      0.994199  SEKER\n",
              "4  30140    620.134       201.847882  ...      0.941900      0.999166  SEKER\n",
              "\n",
              "[5 rows x 17 columns]"
            ]
          },
          "metadata": {
            "tags": []
          },
          "execution_count": 2
        }
      ]
    },
    {
      "cell_type": "code",
      "metadata": {
        "colab": {
          "base_uri": "https://localhost:8080/"
        },
        "id": "rILoeEAla83f",
        "outputId": "c6e33346-256f-46d7-fcf8-528541d6b7bd"
      },
      "source": [
        "#data type of the features in data set\n",
        "Bean_df.dtypes"
      ],
      "execution_count": null,
      "outputs": [
        {
          "output_type": "execute_result",
          "data": {
            "text/plain": [
              "Area                 int64\n",
              "Perimeter          float64\n",
              "MajorAxisLength    float64\n",
              "MinorAxisLength    float64\n",
              "AspectRation       float64\n",
              "Eccentricity       float64\n",
              "ConvexArea           int64\n",
              "EquivDiameter      float64\n",
              "Extent             float64\n",
              "Solidity           float64\n",
              "roundness          float64\n",
              "Compactness        float64\n",
              "ShapeFactor1       float64\n",
              "ShapeFactor2       float64\n",
              "ShapeFactor3       float64\n",
              "ShapeFactor4       float64\n",
              "Class               object\n",
              "dtype: object"
            ]
          },
          "metadata": {
            "tags": []
          },
          "execution_count": 3
        }
      ]
    },
    {
      "cell_type": "code",
      "metadata": {
        "colab": {
          "base_uri": "https://localhost:8080/"
        },
        "id": "OX5lEnBFbOMw",
        "outputId": "fb031ca3-109a-4b08-d65d-86b04e360d4d"
      },
      "source": [
        "#To know the number of samples and features\n",
        "Bean_df.shape"
      ],
      "execution_count": null,
      "outputs": [
        {
          "output_type": "execute_result",
          "data": {
            "text/plain": [
              "(13611, 17)"
            ]
          },
          "metadata": {
            "tags": []
          },
          "execution_count": 4
        }
      ]
    },
    {
      "cell_type": "code",
      "metadata": {
        "colab": {
          "base_uri": "https://localhost:8080/",
          "height": 304
        },
        "id": "r4RPgHNnbVoy",
        "outputId": "40f0514f-6ebb-48be-a35e-1b10bce98f41"
      },
      "source": [
        "Bean_df.describe()"
      ],
      "execution_count": null,
      "outputs": [
        {
          "output_type": "execute_result",
          "data": {
            "text/html": [
              "<div>\n",
              "<style scoped>\n",
              "    .dataframe tbody tr th:only-of-type {\n",
              "        vertical-align: middle;\n",
              "    }\n",
              "\n",
              "    .dataframe tbody tr th {\n",
              "        vertical-align: top;\n",
              "    }\n",
              "\n",
              "    .dataframe thead th {\n",
              "        text-align: right;\n",
              "    }\n",
              "</style>\n",
              "<table border=\"1\" class=\"dataframe\">\n",
              "  <thead>\n",
              "    <tr style=\"text-align: right;\">\n",
              "      <th></th>\n",
              "      <th>Area</th>\n",
              "      <th>Perimeter</th>\n",
              "      <th>MajorAxisLength</th>\n",
              "      <th>MinorAxisLength</th>\n",
              "      <th>AspectRation</th>\n",
              "      <th>Eccentricity</th>\n",
              "      <th>ConvexArea</th>\n",
              "      <th>EquivDiameter</th>\n",
              "      <th>Extent</th>\n",
              "      <th>Solidity</th>\n",
              "      <th>roundness</th>\n",
              "      <th>Compactness</th>\n",
              "      <th>ShapeFactor1</th>\n",
              "      <th>ShapeFactor2</th>\n",
              "      <th>ShapeFactor3</th>\n",
              "      <th>ShapeFactor4</th>\n",
              "    </tr>\n",
              "  </thead>\n",
              "  <tbody>\n",
              "    <tr>\n",
              "      <th>count</th>\n",
              "      <td>13611.000000</td>\n",
              "      <td>13611.000000</td>\n",
              "      <td>13611.000000</td>\n",
              "      <td>13611.000000</td>\n",
              "      <td>13611.000000</td>\n",
              "      <td>13611.000000</td>\n",
              "      <td>13611.000000</td>\n",
              "      <td>13611.000000</td>\n",
              "      <td>13611.000000</td>\n",
              "      <td>13611.000000</td>\n",
              "      <td>13611.000000</td>\n",
              "      <td>13611.000000</td>\n",
              "      <td>13611.000000</td>\n",
              "      <td>13611.000000</td>\n",
              "      <td>13611.000000</td>\n",
              "      <td>13611.000000</td>\n",
              "    </tr>\n",
              "    <tr>\n",
              "      <th>mean</th>\n",
              "      <td>53048.284549</td>\n",
              "      <td>855.283459</td>\n",
              "      <td>320.141867</td>\n",
              "      <td>202.270714</td>\n",
              "      <td>1.583242</td>\n",
              "      <td>0.750895</td>\n",
              "      <td>53768.200206</td>\n",
              "      <td>253.064220</td>\n",
              "      <td>0.749733</td>\n",
              "      <td>0.987143</td>\n",
              "      <td>0.873282</td>\n",
              "      <td>0.799864</td>\n",
              "      <td>0.006564</td>\n",
              "      <td>0.001716</td>\n",
              "      <td>0.643590</td>\n",
              "      <td>0.995063</td>\n",
              "    </tr>\n",
              "    <tr>\n",
              "      <th>std</th>\n",
              "      <td>29324.095717</td>\n",
              "      <td>214.289696</td>\n",
              "      <td>85.694186</td>\n",
              "      <td>44.970091</td>\n",
              "      <td>0.246678</td>\n",
              "      <td>0.092002</td>\n",
              "      <td>29774.915817</td>\n",
              "      <td>59.177120</td>\n",
              "      <td>0.049086</td>\n",
              "      <td>0.004660</td>\n",
              "      <td>0.059520</td>\n",
              "      <td>0.061713</td>\n",
              "      <td>0.001128</td>\n",
              "      <td>0.000596</td>\n",
              "      <td>0.098996</td>\n",
              "      <td>0.004366</td>\n",
              "    </tr>\n",
              "    <tr>\n",
              "      <th>min</th>\n",
              "      <td>20420.000000</td>\n",
              "      <td>524.736000</td>\n",
              "      <td>183.601165</td>\n",
              "      <td>122.512653</td>\n",
              "      <td>1.024868</td>\n",
              "      <td>0.218951</td>\n",
              "      <td>20684.000000</td>\n",
              "      <td>161.243764</td>\n",
              "      <td>0.555315</td>\n",
              "      <td>0.919246</td>\n",
              "      <td>0.489618</td>\n",
              "      <td>0.640577</td>\n",
              "      <td>0.002778</td>\n",
              "      <td>0.000564</td>\n",
              "      <td>0.410339</td>\n",
              "      <td>0.947687</td>\n",
              "    </tr>\n",
              "    <tr>\n",
              "      <th>25%</th>\n",
              "      <td>36328.000000</td>\n",
              "      <td>703.523500</td>\n",
              "      <td>253.303633</td>\n",
              "      <td>175.848170</td>\n",
              "      <td>1.432307</td>\n",
              "      <td>0.715928</td>\n",
              "      <td>36714.500000</td>\n",
              "      <td>215.068003</td>\n",
              "      <td>0.718634</td>\n",
              "      <td>0.985670</td>\n",
              "      <td>0.832096</td>\n",
              "      <td>0.762469</td>\n",
              "      <td>0.005900</td>\n",
              "      <td>0.001154</td>\n",
              "      <td>0.581359</td>\n",
              "      <td>0.993703</td>\n",
              "    </tr>\n",
              "    <tr>\n",
              "      <th>50%</th>\n",
              "      <td>44652.000000</td>\n",
              "      <td>794.941000</td>\n",
              "      <td>296.883367</td>\n",
              "      <td>192.431733</td>\n",
              "      <td>1.551124</td>\n",
              "      <td>0.764441</td>\n",
              "      <td>45178.000000</td>\n",
              "      <td>238.438026</td>\n",
              "      <td>0.759859</td>\n",
              "      <td>0.988283</td>\n",
              "      <td>0.883157</td>\n",
              "      <td>0.801277</td>\n",
              "      <td>0.006645</td>\n",
              "      <td>0.001694</td>\n",
              "      <td>0.642044</td>\n",
              "      <td>0.996386</td>\n",
              "    </tr>\n",
              "    <tr>\n",
              "      <th>75%</th>\n",
              "      <td>61332.000000</td>\n",
              "      <td>977.213000</td>\n",
              "      <td>376.495012</td>\n",
              "      <td>217.031741</td>\n",
              "      <td>1.707109</td>\n",
              "      <td>0.810466</td>\n",
              "      <td>62294.000000</td>\n",
              "      <td>279.446467</td>\n",
              "      <td>0.786851</td>\n",
              "      <td>0.990013</td>\n",
              "      <td>0.916869</td>\n",
              "      <td>0.834270</td>\n",
              "      <td>0.007271</td>\n",
              "      <td>0.002170</td>\n",
              "      <td>0.696006</td>\n",
              "      <td>0.997883</td>\n",
              "    </tr>\n",
              "    <tr>\n",
              "      <th>max</th>\n",
              "      <td>254616.000000</td>\n",
              "      <td>1985.370000</td>\n",
              "      <td>738.860153</td>\n",
              "      <td>460.198497</td>\n",
              "      <td>2.430306</td>\n",
              "      <td>0.911423</td>\n",
              "      <td>263261.000000</td>\n",
              "      <td>569.374358</td>\n",
              "      <td>0.866195</td>\n",
              "      <td>0.994677</td>\n",
              "      <td>0.990685</td>\n",
              "      <td>0.987303</td>\n",
              "      <td>0.010451</td>\n",
              "      <td>0.003665</td>\n",
              "      <td>0.974767</td>\n",
              "      <td>0.999733</td>\n",
              "    </tr>\n",
              "  </tbody>\n",
              "</table>\n",
              "</div>"
            ],
            "text/plain": [
              "                Area     Perimeter  ...  ShapeFactor3  ShapeFactor4\n",
              "count   13611.000000  13611.000000  ...  13611.000000  13611.000000\n",
              "mean    53048.284549    855.283459  ...      0.643590      0.995063\n",
              "std     29324.095717    214.289696  ...      0.098996      0.004366\n",
              "min     20420.000000    524.736000  ...      0.410339      0.947687\n",
              "25%     36328.000000    703.523500  ...      0.581359      0.993703\n",
              "50%     44652.000000    794.941000  ...      0.642044      0.996386\n",
              "75%     61332.000000    977.213000  ...      0.696006      0.997883\n",
              "max    254616.000000   1985.370000  ...      0.974767      0.999733\n",
              "\n",
              "[8 rows x 16 columns]"
            ]
          },
          "metadata": {
            "tags": []
          },
          "execution_count": 5
        }
      ]
    },
    {
      "cell_type": "code",
      "metadata": {
        "id": "hH6K9qWxPDVv"
      },
      "source": [
        "#import seaborn as sns\n",
        "#sns.set_theme(style=\"ticks\")\n",
        "\n",
        "\n",
        "#_=sns.pairplot(df2, hue=\"Class\")"
      ],
      "execution_count": null,
      "outputs": []
    },
    {
      "cell_type": "markdown",
      "metadata": {
        "id": "fQKuyrvLO-TB"
      },
      "source": [
        "Imported the seaborn plot from the google drive by uploading it, as it saves some execution time.The syntax to add in to the google drive is \" ![picture](\"the shareable link from the google drive\"). Make sure the view axis is granted before it is being used.\n",
        "\n",
        "![picture](https://drive.google.com/uc?export=download&id=1uF86zdai8L6znvqDFcQs-uDI_gBx1sbk)"
      ]
    },
    {
      "cell_type": "code",
      "metadata": {
        "colab": {
          "base_uri": "https://localhost:8080/"
        },
        "id": "d1YskVMebZKU",
        "outputId": "f6e30090-6490-4dce-ddd4-0d85c67e8d96"
      },
      "source": [
        "#Finding the duplicate rows in the data set\n",
        "duplicate_rows_df = Bean_df[Bean_df.duplicated()]\n",
        "print(\"number of duplicate rows:\", duplicate_rows_df.shape)\n",
        "\n"
      ],
      "execution_count": null,
      "outputs": [
        {
          "output_type": "stream",
          "text": [
            "number of duplicate rows: (68, 17)\n"
          ],
          "name": "stdout"
        }
      ]
    },
    {
      "cell_type": "code",
      "metadata": {
        "colab": {
          "base_uri": "https://localhost:8080/",
          "height": 422
        },
        "id": "cA2O1mdSbwv7",
        "outputId": "4c48f0bf-a4e5-421b-8d64-7de88368f071"
      },
      "source": [
        "\n",
        "duplicate_rows_df"
      ],
      "execution_count": null,
      "outputs": [
        {
          "output_type": "execute_result",
          "data": {
            "text/html": [
              "<div>\n",
              "<style scoped>\n",
              "    .dataframe tbody tr th:only-of-type {\n",
              "        vertical-align: middle;\n",
              "    }\n",
              "\n",
              "    .dataframe tbody tr th {\n",
              "        vertical-align: top;\n",
              "    }\n",
              "\n",
              "    .dataframe thead th {\n",
              "        text-align: right;\n",
              "    }\n",
              "</style>\n",
              "<table border=\"1\" class=\"dataframe\">\n",
              "  <thead>\n",
              "    <tr style=\"text-align: right;\">\n",
              "      <th></th>\n",
              "      <th>Area</th>\n",
              "      <th>Perimeter</th>\n",
              "      <th>MajorAxisLength</th>\n",
              "      <th>MinorAxisLength</th>\n",
              "      <th>AspectRation</th>\n",
              "      <th>Eccentricity</th>\n",
              "      <th>ConvexArea</th>\n",
              "      <th>EquivDiameter</th>\n",
              "      <th>Extent</th>\n",
              "      <th>Solidity</th>\n",
              "      <th>roundness</th>\n",
              "      <th>Compactness</th>\n",
              "      <th>ShapeFactor1</th>\n",
              "      <th>ShapeFactor2</th>\n",
              "      <th>ShapeFactor3</th>\n",
              "      <th>ShapeFactor4</th>\n",
              "      <th>Class</th>\n",
              "    </tr>\n",
              "  </thead>\n",
              "  <tbody>\n",
              "    <tr>\n",
              "      <th>5505</th>\n",
              "      <td>33518</td>\n",
              "      <td>702.956</td>\n",
              "      <td>277.571399</td>\n",
              "      <td>154.305581</td>\n",
              "      <td>1.798842</td>\n",
              "      <td>0.831240</td>\n",
              "      <td>34023</td>\n",
              "      <td>206.582775</td>\n",
              "      <td>0.808383</td>\n",
              "      <td>0.985157</td>\n",
              "      <td>0.852377</td>\n",
              "      <td>0.744251</td>\n",
              "      <td>0.008281</td>\n",
              "      <td>0.001567</td>\n",
              "      <td>0.553909</td>\n",
              "      <td>0.996396</td>\n",
              "      <td>HOROZ</td>\n",
              "    </tr>\n",
              "    <tr>\n",
              "      <th>5509</th>\n",
              "      <td>33954</td>\n",
              "      <td>716.750</td>\n",
              "      <td>277.368480</td>\n",
              "      <td>156.356326</td>\n",
              "      <td>1.773951</td>\n",
              "      <td>0.825970</td>\n",
              "      <td>34420</td>\n",
              "      <td>207.922042</td>\n",
              "      <td>0.799482</td>\n",
              "      <td>0.986461</td>\n",
              "      <td>0.830549</td>\n",
              "      <td>0.749624</td>\n",
              "      <td>0.008169</td>\n",
              "      <td>0.001591</td>\n",
              "      <td>0.561936</td>\n",
              "      <td>0.996847</td>\n",
              "      <td>HOROZ</td>\n",
              "    </tr>\n",
              "    <tr>\n",
              "      <th>5548</th>\n",
              "      <td>38427</td>\n",
              "      <td>756.323</td>\n",
              "      <td>306.533886</td>\n",
              "      <td>160.591784</td>\n",
              "      <td>1.908777</td>\n",
              "      <td>0.851782</td>\n",
              "      <td>38773</td>\n",
              "      <td>221.193978</td>\n",
              "      <td>0.796976</td>\n",
              "      <td>0.991076</td>\n",
              "      <td>0.844174</td>\n",
              "      <td>0.721597</td>\n",
              "      <td>0.007977</td>\n",
              "      <td>0.001334</td>\n",
              "      <td>0.520702</td>\n",
              "      <td>0.993905</td>\n",
              "      <td>HOROZ</td>\n",
              "    </tr>\n",
              "    <tr>\n",
              "      <th>5554</th>\n",
              "      <td>38891</td>\n",
              "      <td>791.343</td>\n",
              "      <td>319.499996</td>\n",
              "      <td>156.869619</td>\n",
              "      <td>2.036723</td>\n",
              "      <td>0.871168</td>\n",
              "      <td>39651</td>\n",
              "      <td>222.525412</td>\n",
              "      <td>0.650025</td>\n",
              "      <td>0.980833</td>\n",
              "      <td>0.780422</td>\n",
              "      <td>0.696480</td>\n",
              "      <td>0.008215</td>\n",
              "      <td>0.001192</td>\n",
              "      <td>0.485085</td>\n",
              "      <td>0.987983</td>\n",
              "      <td>HOROZ</td>\n",
              "    </tr>\n",
              "    <tr>\n",
              "      <th>5599</th>\n",
              "      <td>40804</td>\n",
              "      <td>790.802</td>\n",
              "      <td>323.475648</td>\n",
              "      <td>163.287717</td>\n",
              "      <td>1.981016</td>\n",
              "      <td>0.863241</td>\n",
              "      <td>41636</td>\n",
              "      <td>227.932592</td>\n",
              "      <td>0.787570</td>\n",
              "      <td>0.980017</td>\n",
              "      <td>0.819931</td>\n",
              "      <td>0.704636</td>\n",
              "      <td>0.007928</td>\n",
              "      <td>0.001206</td>\n",
              "      <td>0.496512</td>\n",
              "      <td>0.983598</td>\n",
              "      <td>HOROZ</td>\n",
              "    </tr>\n",
              "    <tr>\n",
              "      <th>...</th>\n",
              "      <td>...</td>\n",
              "      <td>...</td>\n",
              "      <td>...</td>\n",
              "      <td>...</td>\n",
              "      <td>...</td>\n",
              "      <td>...</td>\n",
              "      <td>...</td>\n",
              "      <td>...</td>\n",
              "      <td>...</td>\n",
              "      <td>...</td>\n",
              "      <td>...</td>\n",
              "      <td>...</td>\n",
              "      <td>...</td>\n",
              "      <td>...</td>\n",
              "      <td>...</td>\n",
              "      <td>...</td>\n",
              "      <td>...</td>\n",
              "    </tr>\n",
              "    <tr>\n",
              "      <th>7263</th>\n",
              "      <td>63408</td>\n",
              "      <td>1005.966</td>\n",
              "      <td>412.551649</td>\n",
              "      <td>196.337705</td>\n",
              "      <td>2.101235</td>\n",
              "      <td>0.879494</td>\n",
              "      <td>64200</td>\n",
              "      <td>284.136539</td>\n",
              "      <td>0.798791</td>\n",
              "      <td>0.987664</td>\n",
              "      <td>0.787385</td>\n",
              "      <td>0.688730</td>\n",
              "      <td>0.006506</td>\n",
              "      <td>0.000903</td>\n",
              "      <td>0.474348</td>\n",
              "      <td>0.996718</td>\n",
              "      <td>HOROZ</td>\n",
              "    </tr>\n",
              "    <tr>\n",
              "      <th>7278</th>\n",
              "      <td>63882</td>\n",
              "      <td>1004.206</td>\n",
              "      <td>411.263403</td>\n",
              "      <td>198.765453</td>\n",
              "      <td>2.069089</td>\n",
              "      <td>0.875452</td>\n",
              "      <td>64663</td>\n",
              "      <td>285.196579</td>\n",
              "      <td>0.754705</td>\n",
              "      <td>0.987922</td>\n",
              "      <td>0.796054</td>\n",
              "      <td>0.693465</td>\n",
              "      <td>0.006438</td>\n",
              "      <td>0.000918</td>\n",
              "      <td>0.480893</td>\n",
              "      <td>0.995010</td>\n",
              "      <td>HOROZ</td>\n",
              "    </tr>\n",
              "    <tr>\n",
              "      <th>7285</th>\n",
              "      <td>63948</td>\n",
              "      <td>996.497</td>\n",
              "      <td>412.297178</td>\n",
              "      <td>198.877557</td>\n",
              "      <td>2.073121</td>\n",
              "      <td>0.875971</td>\n",
              "      <td>64641</td>\n",
              "      <td>285.343867</td>\n",
              "      <td>0.777909</td>\n",
              "      <td>0.989279</td>\n",
              "      <td>0.809254</td>\n",
              "      <td>0.692083</td>\n",
              "      <td>0.006447</td>\n",
              "      <td>0.000912</td>\n",
              "      <td>0.478979</td>\n",
              "      <td>0.992981</td>\n",
              "      <td>HOROZ</td>\n",
              "    </tr>\n",
              "    <tr>\n",
              "      <th>7340</th>\n",
              "      <td>65766</td>\n",
              "      <td>1035.842</td>\n",
              "      <td>406.416622</td>\n",
              "      <td>207.242369</td>\n",
              "      <td>1.961069</td>\n",
              "      <td>0.860218</td>\n",
              "      <td>66698</td>\n",
              "      <td>289.371512</td>\n",
              "      <td>0.792295</td>\n",
              "      <td>0.986027</td>\n",
              "      <td>0.770237</td>\n",
              "      <td>0.712007</td>\n",
              "      <td>0.006180</td>\n",
              "      <td>0.000980</td>\n",
              "      <td>0.506954</td>\n",
              "      <td>0.994172</td>\n",
              "      <td>HOROZ</td>\n",
              "    </tr>\n",
              "    <tr>\n",
              "      <th>7342</th>\n",
              "      <td>65781</td>\n",
              "      <td>1039.257</td>\n",
              "      <td>409.713859</td>\n",
              "      <td>204.992832</td>\n",
              "      <td>1.998674</td>\n",
              "      <td>0.865834</td>\n",
              "      <td>66762</td>\n",
              "      <td>289.404510</td>\n",
              "      <td>0.642549</td>\n",
              "      <td>0.985306</td>\n",
              "      <td>0.765358</td>\n",
              "      <td>0.706358</td>\n",
              "      <td>0.006228</td>\n",
              "      <td>0.000956</td>\n",
              "      <td>0.498941</td>\n",
              "      <td>0.997221</td>\n",
              "      <td>HOROZ</td>\n",
              "    </tr>\n",
              "  </tbody>\n",
              "</table>\n",
              "<p>68 rows × 17 columns</p>\n",
              "</div>"
            ],
            "text/plain": [
              "       Area  Perimeter  MajorAxisLength  ...  ShapeFactor3  ShapeFactor4  Class\n",
              "5505  33518    702.956       277.571399  ...      0.553909      0.996396  HOROZ\n",
              "5509  33954    716.750       277.368480  ...      0.561936      0.996847  HOROZ\n",
              "5548  38427    756.323       306.533886  ...      0.520702      0.993905  HOROZ\n",
              "5554  38891    791.343       319.499996  ...      0.485085      0.987983  HOROZ\n",
              "5599  40804    790.802       323.475648  ...      0.496512      0.983598  HOROZ\n",
              "...     ...        ...              ...  ...           ...           ...    ...\n",
              "7263  63408   1005.966       412.551649  ...      0.474348      0.996718  HOROZ\n",
              "7278  63882   1004.206       411.263403  ...      0.480893      0.995010  HOROZ\n",
              "7285  63948    996.497       412.297178  ...      0.478979      0.992981  HOROZ\n",
              "7340  65766   1035.842       406.416622  ...      0.506954      0.994172  HOROZ\n",
              "7342  65781   1039.257       409.713859  ...      0.498941      0.997221  HOROZ\n",
              "\n",
              "[68 rows x 17 columns]"
            ]
          },
          "metadata": {
            "tags": []
          },
          "execution_count": 8
        }
      ]
    },
    {
      "cell_type": "code",
      "metadata": {
        "colab": {
          "base_uri": "https://localhost:8080/"
        },
        "id": "zibOYF4jb3Zo",
        "outputId": "47e8211d-f2ab-4926-92d2-daebbc16fc16"
      },
      "source": [
        "#dropping the duplicate rows and storing it into new data frame\n",
        "Bean_df = Bean_df.drop_duplicates()\n",
        "Bean_df.count()"
      ],
      "execution_count": null,
      "outputs": [
        {
          "output_type": "execute_result",
          "data": {
            "text/plain": [
              "Area               13543\n",
              "Perimeter          13543\n",
              "MajorAxisLength    13543\n",
              "MinorAxisLength    13543\n",
              "AspectRation       13543\n",
              "Eccentricity       13543\n",
              "ConvexArea         13543\n",
              "EquivDiameter      13543\n",
              "Extent             13543\n",
              "Solidity           13543\n",
              "roundness          13543\n",
              "Compactness        13543\n",
              "ShapeFactor1       13543\n",
              "ShapeFactor2       13543\n",
              "ShapeFactor3       13543\n",
              "ShapeFactor4       13543\n",
              "Class              13543\n",
              "dtype: int64"
            ]
          },
          "metadata": {
            "tags": []
          },
          "execution_count": 9
        }
      ]
    },
    {
      "cell_type": "code",
      "metadata": {
        "colab": {
          "base_uri": "https://localhost:8080/"
        },
        "id": "b6qm0QkGcHwe",
        "outputId": "dd20cdc6-bcb5-4471-f793-64af8c8b35b4"
      },
      "source": [
        "#Check for null values if any\n",
        "print(Bean_df.isnull().sum())"
      ],
      "execution_count": null,
      "outputs": [
        {
          "output_type": "stream",
          "text": [
            "Area               0\n",
            "Perimeter          0\n",
            "MajorAxisLength    0\n",
            "MinorAxisLength    0\n",
            "AspectRation       0\n",
            "Eccentricity       0\n",
            "ConvexArea         0\n",
            "EquivDiameter      0\n",
            "Extent             0\n",
            "Solidity           0\n",
            "roundness          0\n",
            "Compactness        0\n",
            "ShapeFactor1       0\n",
            "ShapeFactor2       0\n",
            "ShapeFactor3       0\n",
            "ShapeFactor4       0\n",
            "Class              0\n",
            "dtype: int64\n"
          ],
          "name": "stdout"
        }
      ]
    },
    {
      "cell_type": "code",
      "metadata": {
        "colab": {
          "base_uri": "https://localhost:8080/",
          "height": 215
        },
        "id": "up8feFgofqM7",
        "outputId": "7441b101-b955-435a-fb48-93505e8d6ae9"
      },
      "source": [
        "\n",
        "\n",
        "# Label encoding with sklearn's LabelEncoder\n",
        "class_le = LabelEncoder()\n",
        "Bean_df['Class_enco'] = class_le.fit_transform(Bean_df['Class'].values)\n",
        "Bean_df.head()"
      ],
      "execution_count": null,
      "outputs": [
        {
          "output_type": "execute_result",
          "data": {
            "text/html": [
              "<div>\n",
              "<style scoped>\n",
              "    .dataframe tbody tr th:only-of-type {\n",
              "        vertical-align: middle;\n",
              "    }\n",
              "\n",
              "    .dataframe tbody tr th {\n",
              "        vertical-align: top;\n",
              "    }\n",
              "\n",
              "    .dataframe thead th {\n",
              "        text-align: right;\n",
              "    }\n",
              "</style>\n",
              "<table border=\"1\" class=\"dataframe\">\n",
              "  <thead>\n",
              "    <tr style=\"text-align: right;\">\n",
              "      <th></th>\n",
              "      <th>Area</th>\n",
              "      <th>Perimeter</th>\n",
              "      <th>MajorAxisLength</th>\n",
              "      <th>MinorAxisLength</th>\n",
              "      <th>AspectRation</th>\n",
              "      <th>Eccentricity</th>\n",
              "      <th>ConvexArea</th>\n",
              "      <th>EquivDiameter</th>\n",
              "      <th>Extent</th>\n",
              "      <th>Solidity</th>\n",
              "      <th>roundness</th>\n",
              "      <th>Compactness</th>\n",
              "      <th>ShapeFactor1</th>\n",
              "      <th>ShapeFactor2</th>\n",
              "      <th>ShapeFactor3</th>\n",
              "      <th>ShapeFactor4</th>\n",
              "      <th>Class</th>\n",
              "      <th>Class_enco</th>\n",
              "    </tr>\n",
              "  </thead>\n",
              "  <tbody>\n",
              "    <tr>\n",
              "      <th>0</th>\n",
              "      <td>28395</td>\n",
              "      <td>610.291</td>\n",
              "      <td>208.178117</td>\n",
              "      <td>173.888747</td>\n",
              "      <td>1.197191</td>\n",
              "      <td>0.549812</td>\n",
              "      <td>28715</td>\n",
              "      <td>190.141097</td>\n",
              "      <td>0.763923</td>\n",
              "      <td>0.988856</td>\n",
              "      <td>0.958027</td>\n",
              "      <td>0.913358</td>\n",
              "      <td>0.007332</td>\n",
              "      <td>0.003147</td>\n",
              "      <td>0.834222</td>\n",
              "      <td>0.998724</td>\n",
              "      <td>SEKER</td>\n",
              "      <td>5</td>\n",
              "    </tr>\n",
              "    <tr>\n",
              "      <th>1</th>\n",
              "      <td>28734</td>\n",
              "      <td>638.018</td>\n",
              "      <td>200.524796</td>\n",
              "      <td>182.734419</td>\n",
              "      <td>1.097356</td>\n",
              "      <td>0.411785</td>\n",
              "      <td>29172</td>\n",
              "      <td>191.272750</td>\n",
              "      <td>0.783968</td>\n",
              "      <td>0.984986</td>\n",
              "      <td>0.887034</td>\n",
              "      <td>0.953861</td>\n",
              "      <td>0.006979</td>\n",
              "      <td>0.003564</td>\n",
              "      <td>0.909851</td>\n",
              "      <td>0.998430</td>\n",
              "      <td>SEKER</td>\n",
              "      <td>5</td>\n",
              "    </tr>\n",
              "    <tr>\n",
              "      <th>2</th>\n",
              "      <td>29380</td>\n",
              "      <td>624.110</td>\n",
              "      <td>212.826130</td>\n",
              "      <td>175.931143</td>\n",
              "      <td>1.209713</td>\n",
              "      <td>0.562727</td>\n",
              "      <td>29690</td>\n",
              "      <td>193.410904</td>\n",
              "      <td>0.778113</td>\n",
              "      <td>0.989559</td>\n",
              "      <td>0.947849</td>\n",
              "      <td>0.908774</td>\n",
              "      <td>0.007244</td>\n",
              "      <td>0.003048</td>\n",
              "      <td>0.825871</td>\n",
              "      <td>0.999066</td>\n",
              "      <td>SEKER</td>\n",
              "      <td>5</td>\n",
              "    </tr>\n",
              "    <tr>\n",
              "      <th>3</th>\n",
              "      <td>30008</td>\n",
              "      <td>645.884</td>\n",
              "      <td>210.557999</td>\n",
              "      <td>182.516516</td>\n",
              "      <td>1.153638</td>\n",
              "      <td>0.498616</td>\n",
              "      <td>30724</td>\n",
              "      <td>195.467062</td>\n",
              "      <td>0.782681</td>\n",
              "      <td>0.976696</td>\n",
              "      <td>0.903936</td>\n",
              "      <td>0.928329</td>\n",
              "      <td>0.007017</td>\n",
              "      <td>0.003215</td>\n",
              "      <td>0.861794</td>\n",
              "      <td>0.994199</td>\n",
              "      <td>SEKER</td>\n",
              "      <td>5</td>\n",
              "    </tr>\n",
              "    <tr>\n",
              "      <th>4</th>\n",
              "      <td>30140</td>\n",
              "      <td>620.134</td>\n",
              "      <td>201.847882</td>\n",
              "      <td>190.279279</td>\n",
              "      <td>1.060798</td>\n",
              "      <td>0.333680</td>\n",
              "      <td>30417</td>\n",
              "      <td>195.896503</td>\n",
              "      <td>0.773098</td>\n",
              "      <td>0.990893</td>\n",
              "      <td>0.984877</td>\n",
              "      <td>0.970516</td>\n",
              "      <td>0.006697</td>\n",
              "      <td>0.003665</td>\n",
              "      <td>0.941900</td>\n",
              "      <td>0.999166</td>\n",
              "      <td>SEKER</td>\n",
              "      <td>5</td>\n",
              "    </tr>\n",
              "  </tbody>\n",
              "</table>\n",
              "</div>"
            ],
            "text/plain": [
              "    Area  Perimeter  MajorAxisLength  ...  ShapeFactor4  Class  Class_enco\n",
              "0  28395    610.291       208.178117  ...      0.998724  SEKER           5\n",
              "1  28734    638.018       200.524796  ...      0.998430  SEKER           5\n",
              "2  29380    624.110       212.826130  ...      0.999066  SEKER           5\n",
              "3  30008    645.884       210.557999  ...      0.994199  SEKER           5\n",
              "4  30140    620.134       201.847882  ...      0.999166  SEKER           5\n",
              "\n",
              "[5 rows x 18 columns]"
            ]
          },
          "metadata": {
            "tags": []
          },
          "execution_count": 11
        }
      ]
    },
    {
      "cell_type": "markdown",
      "metadata": {
        "id": "O37Jz_Qqch9s"
      },
      "source": [
        "The technique to find outliers and remove we referred \n",
        "https://towardsdatascience.com/ways-to-detect-and-remove-the-outliers-404d16608dba"
      ]
    },
    {
      "cell_type": "code",
      "metadata": {
        "colab": {
          "base_uri": "https://localhost:8080/",
          "height": 296
        },
        "id": "MD07n-6zc2MF",
        "outputId": "be3d5a11-c0ca-4876-eb7f-35eec787d7c9"
      },
      "source": [
        "#Box plots to visualize the data points and to check the outliers\n",
        "\n",
        "\n",
        "import seaborn as sns\n",
        "sns.boxplot(x=Bean_df['MajorAxisLength'])\n"
      ],
      "execution_count": null,
      "outputs": [
        {
          "output_type": "execute_result",
          "data": {
            "text/plain": [
              "<matplotlib.axes._subplots.AxesSubplot at 0x7f5ca9fb6150>"
            ]
          },
          "metadata": {
            "tags": []
          },
          "execution_count": 16
        },
        {
          "output_type": "display_data",
          "data": {
            "image/png": "[encoded data removed]",
            "text/plain": [
              "<Figure size 432x288 with 1 Axes>"
            ]
          },
          "metadata": {
            "tags": [],
            "needs_background": "light"
          }
        }
      ]
    },
    {
      "cell_type": "code",
      "metadata": {
        "colab": {
          "base_uri": "https://localhost:8080/",
          "height": 296
        },
        "id": "zoYIT3qGdKjm",
        "outputId": "f2ee450f-599f-478c-9b04-3fbefa6cc350"
      },
      "source": [
        "import seaborn as sns\n",
        "sns.boxplot(x=Bean_df['MajorAxisLength'])"
      ],
      "execution_count": null,
      "outputs": [
        {
          "output_type": "execute_result",
          "data": {
            "text/plain": [
              "<matplotlib.axes._subplots.AxesSubplot at 0x7f5ca9ef3210>"
            ]
          },
          "metadata": {
            "tags": []
          },
          "execution_count": 17
        },
        {
          "output_type": "display_data",
          "data": {
            "image/png": "[encoded data removed]",
            "text/plain": [
              "<Figure size 432x288 with 1 Axes>"
            ]
          },
          "metadata": {
            "tags": [],
            "needs_background": "light"
          }
        }
      ]
    },
    {
      "cell_type": "code",
      "metadata": {
        "colab": {
          "base_uri": "https://localhost:8080/",
          "height": 296
        },
        "id": "J39dRw9XdYtm",
        "outputId": "63c971d0-5152-482e-e5b8-91d19ab65dfd"
      },
      "source": [
        "import seaborn as sns\n",
        "sns.boxplot(x=Bean_df['MinorAxisLength'])"
      ],
      "execution_count": null,
      "outputs": [
        {
          "output_type": "execute_result",
          "data": {
            "text/plain": [
              "<matplotlib.axes._subplots.AxesSubplot at 0x7f5ca9a2ac50>"
            ]
          },
          "metadata": {
            "tags": []
          },
          "execution_count": 18
        },
        {
          "output_type": "display_data",
          "data": {
            "image/png": "[encoded data removed]",
            "text/plain": [
              "<Figure size 432x288 with 1 Axes>"
            ]
          },
          "metadata": {
            "tags": [],
            "needs_background": "light"
          }
        }
      ]
    },
    {
      "cell_type": "code",
      "metadata": {
        "colab": {
          "base_uri": "https://localhost:8080/",
          "height": 296
        },
        "id": "rZ0nD-8bddGy",
        "outputId": "549e4844-8f29-4cb2-8e0a-8f019d8b4199"
      },
      "source": [
        "import seaborn as sns\n",
        "sns.boxplot(x=Bean_df['Area'])"
      ],
      "execution_count": null,
      "outputs": [
        {
          "output_type": "execute_result",
          "data": {
            "text/plain": [
              "<matplotlib.axes._subplots.AxesSubplot at 0x7f5ca9995790>"
            ]
          },
          "metadata": {
            "tags": []
          },
          "execution_count": 19
        },
        {
          "output_type": "display_data",
          "data": {
            "image/png": "[encoded data removed]",
            "text/plain": [
              "<Figure size 432x288 with 1 Axes>"
            ]
          },
          "metadata": {
            "tags": [],
            "needs_background": "light"
          }
        }
      ]
    },
    {
      "cell_type": "markdown",
      "metadata": {
        "id": "gwY8N9NWLvJN"
      },
      "source": [
        "From the Above plots, there are  some of the outliers in the data.Inorder to remove the outlier from the data we used Interquartile range to get reliable data without Outliers. As most of the outliers are present at the extream end of the fourth quartile, we modified the range of inclusion for the formula below which suits our data well."
      ]
    },
    {
      "cell_type": "code",
      "metadata": {
        "colab": {
          "base_uri": "https://localhost:8080/"
        },
        "id": "jFHFDU8mduMc",
        "outputId": "0d5f7074-2d32-4582-b575-166845d27237"
      },
      "source": [
        "Q1 = Bean_df.quantile(0.02)\n",
        "Q3 = Bean_df.quantile(0.85)\n",
        "IQR = Q3-Q1\n",
        "print(IQR)"
      ],
      "execution_count": null,
      "outputs": [
        {
          "output_type": "stream",
          "text": [
            "Area               46795.860000\n",
            "Perimeter            458.883760\n",
            "MajorAxisLength      184.662289\n",
            "MinorAxisLength       89.310450\n",
            "AspectRation           0.658482\n",
            "Eccentricity           0.324575\n",
            "ConvexArea         47732.820000\n",
            "EquivDiameter        123.099552\n",
            "Extent                 0.180900\n",
            "Solidity               0.016991\n",
            "roundness              0.188432\n",
            "Compactness            0.186510\n",
            "ShapeFactor1           0.004219\n",
            "ShapeFactor2           0.001592\n",
            "ShapeFactor3           0.287596\n",
            "ShapeFactor4           0.015722\n",
            "Class_enco             6.000000\n",
            "dtype: float64\n"
          ],
          "name": "stdout"
        }
      ]
    },
    {
      "cell_type": "code",
      "metadata": {
        "colab": {
          "base_uri": "https://localhost:8080/"
        },
        "id": "sXf9Ra5SeANF",
        "outputId": "c4722b9a-bf8f-4709-8920-ab5e541f5d40"
      },
      "source": [
        "#New data frame after removing the outliers Using modified IQR\n",
        "df = Bean_df[~((Bean_df < (Q1-1.5 * IQR)) |(Bean_df > (Q3+1.5 * IQR))).any(axis=1)]\n",
        "df.shape"
      ],
      "execution_count": null,
      "outputs": [
        {
          "output_type": "execute_result",
          "data": {
            "text/plain": [
              "(13054, 18)"
            ]
          },
          "metadata": {
            "tags": []
          },
          "execution_count": 22
        }
      ]
    },
    {
      "cell_type": "code",
      "metadata": {
        "colab": {
          "base_uri": "https://localhost:8080/",
          "height": 304
        },
        "id": "3vDj0ZhseCs6",
        "outputId": "64cb2a9c-7abc-4c21-87a2-8e70a727d65f"
      },
      "source": [
        "df.describe()"
      ],
      "execution_count": null,
      "outputs": [
        {
          "output_type": "execute_result",
          "data": {
            "text/html": [
              "<div>\n",
              "<style scoped>\n",
              "    .dataframe tbody tr th:only-of-type {\n",
              "        vertical-align: middle;\n",
              "    }\n",
              "\n",
              "    .dataframe tbody tr th {\n",
              "        vertical-align: top;\n",
              "    }\n",
              "\n",
              "    .dataframe thead th {\n",
              "        text-align: right;\n",
              "    }\n",
              "</style>\n",
              "<table border=\"1\" class=\"dataframe\">\n",
              "  <thead>\n",
              "    <tr style=\"text-align: right;\">\n",
              "      <th></th>\n",
              "      <th>Area</th>\n",
              "      <th>Perimeter</th>\n",
              "      <th>MajorAxisLength</th>\n",
              "      <th>MinorAxisLength</th>\n",
              "      <th>AspectRation</th>\n",
              "      <th>Eccentricity</th>\n",
              "      <th>ConvexArea</th>\n",
              "      <th>EquivDiameter</th>\n",
              "      <th>Extent</th>\n",
              "      <th>Solidity</th>\n",
              "      <th>roundness</th>\n",
              "      <th>Compactness</th>\n",
              "      <th>ShapeFactor1</th>\n",
              "      <th>ShapeFactor2</th>\n",
              "      <th>ShapeFactor3</th>\n",
              "      <th>ShapeFactor4</th>\n",
              "      <th>Class_enco</th>\n",
              "    </tr>\n",
              "  </thead>\n",
              "  <tbody>\n",
              "    <tr>\n",
              "      <th>count</th>\n",
              "      <td>13054.000000</td>\n",
              "      <td>13054.000000</td>\n",
              "      <td>13054.000000</td>\n",
              "      <td>13054.000000</td>\n",
              "      <td>13054.000000</td>\n",
              "      <td>13054.000000</td>\n",
              "      <td>13054.000000</td>\n",
              "      <td>13054.000000</td>\n",
              "      <td>13054.000000</td>\n",
              "      <td>13054.000000</td>\n",
              "      <td>13054.000000</td>\n",
              "      <td>13054.000000</td>\n",
              "      <td>13054.000000</td>\n",
              "      <td>13054.000000</td>\n",
              "      <td>13054.000000</td>\n",
              "      <td>13054.000000</td>\n",
              "      <td>13054.000000</td>\n",
              "    </tr>\n",
              "    <tr>\n",
              "      <th>mean</th>\n",
              "      <td>48517.645243</td>\n",
              "      <td>827.537513</td>\n",
              "      <td>309.579727</td>\n",
              "      <td>195.979479</td>\n",
              "      <td>1.580339</td>\n",
              "      <td>0.749377</td>\n",
              "      <td>49173.893672</td>\n",
              "      <td>244.956439</td>\n",
              "      <td>0.748909</td>\n",
              "      <td>0.987202</td>\n",
              "      <td>0.874201</td>\n",
              "      <td>0.800796</td>\n",
              "      <td>0.006676</td>\n",
              "      <td>0.001752</td>\n",
              "      <td>0.645151</td>\n",
              "      <td>0.995240</td>\n",
              "      <td>3.622338</td>\n",
              "    </tr>\n",
              "    <tr>\n",
              "      <th>std</th>\n",
              "      <td>17248.745765</td>\n",
              "      <td>161.778185</td>\n",
              "      <td>67.462014</td>\n",
              "      <td>30.479859</td>\n",
              "      <td>0.248642</td>\n",
              "      <td>0.093105</td>\n",
              "      <td>17568.784270</td>\n",
              "      <td>42.083999</td>\n",
              "      <td>0.048903</td>\n",
              "      <td>0.004470</td>\n",
              "      <td>0.060054</td>\n",
              "      <td>0.062265</td>\n",
              "      <td>0.000973</td>\n",
              "      <td>0.000580</td>\n",
              "      <td>0.099933</td>\n",
              "      <td>0.004133</td>\n",
              "      <td>1.800817</td>\n",
              "    </tr>\n",
              "    <tr>\n",
              "      <th>min</th>\n",
              "      <td>20420.000000</td>\n",
              "      <td>524.736000</td>\n",
              "      <td>183.601165</td>\n",
              "      <td>122.512653</td>\n",
              "      <td>1.024868</td>\n",
              "      <td>0.218951</td>\n",
              "      <td>20684.000000</td>\n",
              "      <td>161.243764</td>\n",
              "      <td>0.555315</td>\n",
              "      <td>0.949103</td>\n",
              "      <td>0.556766</td>\n",
              "      <td>0.640577</td>\n",
              "      <td>0.003502</td>\n",
              "      <td>0.000751</td>\n",
              "      <td>0.410339</td>\n",
              "      <td>0.960702</td>\n",
              "      <td>0.000000</td>\n",
              "    </tr>\n",
              "    <tr>\n",
              "      <th>25%</th>\n",
              "      <td>36008.250000</td>\n",
              "      <td>700.010250</td>\n",
              "      <td>251.800480</td>\n",
              "      <td>175.074614</td>\n",
              "      <td>1.426776</td>\n",
              "      <td>0.713279</td>\n",
              "      <td>36404.750000</td>\n",
              "      <td>214.119424</td>\n",
              "      <td>0.717729</td>\n",
              "      <td>0.985726</td>\n",
              "      <td>0.832013</td>\n",
              "      <td>0.762822</td>\n",
              "      <td>0.006028</td>\n",
              "      <td>0.001205</td>\n",
              "      <td>0.581897</td>\n",
              "      <td>0.993954</td>\n",
              "      <td>3.000000</td>\n",
              "    </tr>\n",
              "    <tr>\n",
              "      <th>50%</th>\n",
              "      <td>43877.000000</td>\n",
              "      <td>785.981000</td>\n",
              "      <td>292.818856</td>\n",
              "      <td>191.465755</td>\n",
              "      <td>1.547513</td>\n",
              "      <td>0.763170</td>\n",
              "      <td>44403.000000</td>\n",
              "      <td>236.359750</td>\n",
              "      <td>0.758843</td>\n",
              "      <td>0.988296</td>\n",
              "      <td>0.885278</td>\n",
              "      <td>0.802357</td>\n",
              "      <td>0.006678</td>\n",
              "      <td>0.001733</td>\n",
              "      <td>0.643777</td>\n",
              "      <td>0.996496</td>\n",
              "      <td>3.000000</td>\n",
              "    </tr>\n",
              "    <tr>\n",
              "      <th>75%</th>\n",
              "      <td>58478.000000</td>\n",
              "      <td>955.304000</td>\n",
              "      <td>369.578924</td>\n",
              "      <td>211.973286</td>\n",
              "      <td>1.706244</td>\n",
              "      <td>0.810251</td>\n",
              "      <td>59309.000000</td>\n",
              "      <td>272.867187</td>\n",
              "      <td>0.786123</td>\n",
              "      <td>0.990009</td>\n",
              "      <td>0.918159</td>\n",
              "      <td>0.835673</td>\n",
              "      <td>0.007304</td>\n",
              "      <td>0.002194</td>\n",
              "      <td>0.698349</td>\n",
              "      <td>0.997936</td>\n",
              "      <td>5.000000</td>\n",
              "    </tr>\n",
              "    <tr>\n",
              "      <th>max</th>\n",
              "      <td>142399.000000</td>\n",
              "      <td>1459.686000</td>\n",
              "      <td>540.677823</td>\n",
              "      <td>364.519023</td>\n",
              "      <td>2.430306</td>\n",
              "      <td>0.911423</td>\n",
              "      <td>143783.000000</td>\n",
              "      <td>425.802816</td>\n",
              "      <td>0.866195</td>\n",
              "      <td>0.994677</td>\n",
              "      <td>0.990685</td>\n",
              "      <td>0.987303</td>\n",
              "      <td>0.010451</td>\n",
              "      <td>0.003665</td>\n",
              "      <td>0.974767</td>\n",
              "      <td>0.999733</td>\n",
              "      <td>6.000000</td>\n",
              "    </tr>\n",
              "  </tbody>\n",
              "</table>\n",
              "</div>"
            ],
            "text/plain": [
              "                Area     Perimeter  ...  ShapeFactor4    Class_enco\n",
              "count   13054.000000  13054.000000  ...  13054.000000  13054.000000\n",
              "mean    48517.645243    827.537513  ...      0.995240      3.622338\n",
              "std     17248.745765    161.778185  ...      0.004133      1.800817\n",
              "min     20420.000000    524.736000  ...      0.960702      0.000000\n",
              "25%     36008.250000    700.010250  ...      0.993954      3.000000\n",
              "50%     43877.000000    785.981000  ...      0.996496      3.000000\n",
              "75%     58478.000000    955.304000  ...      0.997936      5.000000\n",
              "max    142399.000000   1459.686000  ...      0.999733      6.000000\n",
              "\n",
              "[8 rows x 17 columns]"
            ]
          },
          "metadata": {
            "tags": []
          },
          "execution_count": 23
        }
      ]
    },
    {
      "cell_type": "code",
      "metadata": {
        "id": "pWiWAUXeeMH_"
      },
      "source": [
        "#plt.figure(figsize=(20,10))\n",
        "#c= df.corr()\n",
        "#sns.heatmap(c,cmap=\"BrBG\",annot=True)"
      ],
      "execution_count": null,
      "outputs": []
    },
    {
      "cell_type": "code",
      "metadata": {
        "colab": {
          "base_uri": "https://localhost:8080/",
          "height": 502
        },
        "id": "iMs4XVyAiNUI",
        "outputId": "7b298f02-f033-4747-f724-4052afe7785e"
      },
      "source": [
        "#Bar graph plot to display the distribution of individual classes \n",
        "\n",
        "Bean_df.Class.value_counts()\n",
        "\n",
        "plt.figure(figsize=(10,8))\n",
        "classes =np.arange(7)\n",
        "X_ticks = [\"DERMASON\",\"SIRA \",\"SEKER \",\"HOROZ\",\"CALI\",\"BARBUNYA\", \"BOMBAY\"]\n",
        "\n",
        "plt.bar(classes, Bean_df['Class'].value_counts())\n",
        "plt.xticks(classes,X_ticks, rotation=20)\n",
        "plt.show()"
      ],
      "execution_count": null,
      "outputs": [
        {
          "output_type": "display_data",
          "data": {
            "image/png": "[encoded data removed]",
            "text/plain": [
              "<Figure size 720x576 with 1 Axes>"
            ]
          },
          "metadata": {
            "tags": [],
            "needs_background": "light"
          }
        }
      ]
    },
    {
      "cell_type": "markdown",
      "metadata": {
        "id": "Rg8yC2v0Q5Wl"
      },
      "source": [
        " As we see from the above graph the classes are Imbalanced, We would be using SMOTE method in the next step to balance the classes.\n"
      ]
    },
    {
      "cell_type": "code",
      "metadata": {
        "id": "2Op02Vw3gm5I"
      },
      "source": [
        "# Loading all the feature values in a variable X, and the target values assigned to  y.\n",
        "X= Bean_df.iloc[:,:-2]\n",
        "X.head()\n",
        "y=Bean_df.iloc[:,-1]"
      ],
      "execution_count": null,
      "outputs": []
    },
    {
      "cell_type": "code",
      "metadata": {
        "id": "HktysVnYiD5p"
      },
      "source": [
        "# Balance the classes using SMOTE method\n",
        "\n",
        "smote = SMOTE()\n",
        "X_sm, y_sm = smote.fit_sample(X, y)"
      ],
      "execution_count": null,
      "outputs": []
    },
    {
      "cell_type": "code",
      "metadata": {
        "colab": {
          "base_uri": "https://localhost:8080/"
        },
        "id": "Ttpkv2QNi1m8",
        "outputId": "df98d391-9e48-4464-8a6a-b9d622a24bd4"
      },
      "source": [
        "X_sm.shape"
      ],
      "execution_count": null,
      "outputs": [
        {
          "output_type": "execute_result",
          "data": {
            "text/plain": [
              "(24815, 16)"
            ]
          },
          "metadata": {
            "tags": []
          },
          "execution_count": 30
        }
      ]
    },
    {
      "cell_type": "code",
      "metadata": {
        "colab": {
          "base_uri": "https://localhost:8080/"
        },
        "id": "F0B9-4lci4qw",
        "outputId": "b6b2bb0f-aad8-4bd6-e022-3b13affddaf4"
      },
      "source": [
        "print(\"number of y\",np.bincount(y_sm))"
      ],
      "execution_count": null,
      "outputs": [
        {
          "output_type": "stream",
          "text": [
            "number of y [3545 3545 3545 3545 3545 3545 3545]\n"
          ],
          "name": "stdout"
        }
      ]
    },
    {
      "cell_type": "markdown",
      "metadata": {
        "id": "dxvueSLIRQB9"
      },
      "source": [
        "#2 Model Training and Predicting "
      ]
    },
    {
      "cell_type": "code",
      "metadata": {
        "id": "8-ln125ki6n1"
      },
      "source": [
        "#splitting dataset into train and test data with 80% and 20% respectively.\n",
        "from sklearn.model_selection import train_test_split\n",
        "\n",
        "X_train, X_test, y_train, y_test =\\\n",
        "    train_test_split(X_sm, y_sm, \n",
        "                     test_size=0.2, \n",
        "                     random_state=0, \n",
        "                     stratify=y_sm)"
      ],
      "execution_count": null,
      "outputs": []
    },
    {
      "cell_type": "code",
      "metadata": {
        "colab": {
          "base_uri": "https://localhost:8080/"
        },
        "id": "UalQ8vq-i89u",
        "outputId": "518c64cc-1a43-4f0e-d197-373d1f8cd6f8"
      },
      "source": [
        "print(\"number of y\",np.bincount(y_sm))\n",
        "print(\"number of y_train\",np.bincount(y_train))\n",
        "print(\"number of y_test\",np.bincount(y_test))"
      ],
      "execution_count": null,
      "outputs": [
        {
          "output_type": "stream",
          "text": [
            "number of y [3545 3545 3545 3545 3545 3545 3545]\n",
            "number of y_train [2836 2836 2836 2836 2836 2836 2836]\n",
            "number of y_test [709 709 709 709 709 709 709]\n"
          ],
          "name": "stdout"
        }
      ]
    },
    {
      "cell_type": "code",
      "metadata": {
        "id": "Cw8CNgASjA5P"
      },
      "source": [
        "#splitting the train dataset into validation and train data with 80% and 20% respectively\n",
        "X_train2, X_validation, y_train2, y_validation =\\\n",
        "    train_test_split(X_train, y_train, \n",
        "                     test_size=0.2, \n",
        "                     random_state=0, \n",
        "                     stratify=y_train)"
      ],
      "execution_count": null,
      "outputs": []
    },
    {
      "cell_type": "code",
      "metadata": {
        "colab": {
          "base_uri": "https://localhost:8080/"
        },
        "id": "fuguRLtpjDnl",
        "outputId": "3de4c4b3-35d5-4f26-e2c7-7c2705bcdf66"
      },
      "source": [
        "print(\"number of y\",np.bincount(y_train))\n",
        "print(\"number of y_train2\",np.bincount(y_train2))\n",
        "print(\"number of y_validation\",np.bincount(y_validation))"
      ],
      "execution_count": null,
      "outputs": [
        {
          "output_type": "stream",
          "text": [
            "number of y [2836 2836 2836 2836 2836 2836 2836]\n",
            "number of y_train2 [2269 2269 2269 2269 2268 2268 2269]\n",
            "number of y_validation [567 567 567 567 568 568 567]\n"
          ],
          "name": "stdout"
        }
      ]
    },
    {
      "cell_type": "code",
      "metadata": {
        "id": "XnlcGhT7jJb0"
      },
      "source": [
        "# standerdizing all the features of data set\n",
        "from sklearn.preprocessing import StandardScaler\n",
        "\n",
        "sc = StandardScaler()\n",
        "sc.fit(X_train2)\n",
        "X_train_std = sc.transform(X_train2)\n",
        "X_test_std = sc.transform(X_test)\n",
        "X_val_std = sc.transform(X_validation)"
      ],
      "execution_count": null,
      "outputs": []
    },
    {
      "cell_type": "code",
      "metadata": {
        "id": "iFXwdEtMjQVn"
      },
      "source": [
        "# For visualization purpose we used only two X features, MajorAxisLength and ShapeFactor3 \n",
        "\n",
        "\n",
        "X_two_feat= (X_train_std[:,[2,14]])\n",
        "X_two_val= (X_val_std[:,[2,14]])\n",
        "#X_two_feat.shape"
      ],
      "execution_count": null,
      "outputs": []
    },
    {
      "cell_type": "markdown",
      "metadata": {
        "id": "odp_kWbpjL0N"
      },
      "source": [
        "we built several models and compared their accuracy performance to choose the best model to classify the seven dry bean classes."
      ]
    },
    {
      "cell_type": "markdown",
      "metadata": {
        "id": "5cL3-v-rl4sh"
      },
      "source": [
        "## 2.1 Perceptron"
      ]
    },
    {
      "cell_type": "code",
      "metadata": {
        "colab": {
          "base_uri": "https://localhost:8080/"
        },
        "id": "aPcnIRO_kajH",
        "outputId": "e6b5937a-c76b-4d88-e692-870593162d69"
      },
      "source": [
        "from sklearn.linear_model import SGDClassifier\n",
        "\n",
        "clf= SGDClassifier(loss=\"perceptron\", eta0=0.001,max_iter=1000,learning_rate=\"constant\", penalty=None)\n",
        "\n",
        "clf.fit(X_train_std,y_train2)\n"
      ],
      "execution_count": null,
      "outputs": [
        {
          "output_type": "execute_result",
          "data": {
            "text/plain": [
              "SGDClassifier(alpha=0.0001, average=False, class_weight=None,\n",
              "              early_stopping=False, epsilon=0.1, eta0=0.001, fit_intercept=True,\n",
              "              l1_ratio=0.15, learning_rate='constant', loss='perceptron',\n",
              "              max_iter=1000, n_iter_no_change=5, n_jobs=None, penalty=None,\n",
              "              power_t=0.5, random_state=None, shuffle=True, tol=0.001,\n",
              "              validation_fraction=0.1, verbose=0, warm_start=False)"
            ]
          },
          "metadata": {
            "tags": []
          },
          "execution_count": 38
        }
      ]
    },
    {
      "cell_type": "code",
      "metadata": {
        "id": "yvtoZHYbmGZm"
      },
      "source": [
        "# A Function to creat a decsion region for separating bean classesinto seven categories using two of X features\n",
        "def plot_decision_regions(X, y, classifier, resolution=0.02, margin=1):\n",
        "\n",
        "    # setup marker generator and color map\n",
        "    markers = ('s', 'x', 'o', '^', 'v','<','>')\n",
        "    colors = ('red', 'blue', 'lightgreen', 'gray', 'cyan','yellow','pink')\n",
        "    cmap = ListedColormap(colors[:len(np.unique(y))])\n",
        "\n",
        "    # plot the decision surface\n",
        "    x1_min, x1_max = X[:, 0].min() - margin, X[:, 0].max() + margin\n",
        "    x2_min, x2_max = X[:, 1].min() - margin, X[:, 1].max() + margin\n",
        "    xx1, xx2 = np.meshgrid(np.arange(x1_min, x1_max, resolution),\n",
        "                           np.arange(x2_min, x2_max, resolution))\n",
        "    Z = classifier.predict(np.array([xx1.ravel(), xx2.ravel()]).T)\n",
        "    Z = Z.reshape(xx1.shape)\n",
        "    plt.contourf(xx1, xx2, Z, alpha=0.3, cmap=cmap)\n",
        "    plt.xlim(xx1.min(), xx1.max())\n",
        "    plt.ylim(xx2.min(), xx2.max())\n",
        "\n",
        "    # plot class examples\n",
        "    for idx, cl in enumerate(np.unique(y)):\n",
        "        plt.scatter(x=X[y == cl, 0], \n",
        "                    y=X[y == cl, 1],\n",
        "                    alpha=0.8, \n",
        "                    c=colors[idx],\n",
        "                    marker=markers[idx], \n",
        "                    label=cl, \n",
        "                    edgecolor='black')"
      ],
      "execution_count": null,
      "outputs": []
    },
    {
      "cell_type": "code",
      "metadata": {
        "id": "9LErZS21mUOs"
      },
      "source": [
        "# # The classes are not well separeted by perceptron\n",
        "# plt.figure(figsize=(8,6))\n",
        "# plot_decision_regions(X_two_feat, y_train2, classifier=clf)\n",
        "# plt.xlabel(\"MajorAxisLength\")\n",
        "# plt.ylabel(\"ShapeFactor3\")\n",
        "\n",
        "# plt.title('Major Axis Length vs Shape Factor3 by Perceptron')\n",
        "# plt.legend(loc='upper left')\n",
        "# plt.show()"
      ],
      "execution_count": null,
      "outputs": []
    },
    {
      "cell_type": "markdown",
      "metadata": {
        "id": "Wr_Zo_kP__cp"
      },
      "source": [
        " Major Axis length and Shape Factor3 where only used for drafting decision region\n"
      ]
    },
    {
      "cell_type": "markdown",
      "metadata": {
        "id": "1WYYHrhHx2HR"
      },
      "source": [
        "\n",
        "![picture](https://drive.google.com/uc?export=download&id=1ZVzZIXqCTEIhV7qtwp5AbvSjZ7ev9v-T)\n"
      ]
    },
    {
      "cell_type": "code",
      "metadata": {
        "colab": {
          "base_uri": "https://localhost:8080/"
        },
        "id": "epLl8a--gMRu",
        "outputId": "7e97e15b-05f2-4ece-9625-84cd9c5a4c02"
      },
      "source": [
        "#Accuracy for perceptron, which is not high enough.\n",
        "from sklearn.metrics import accuracy_score\n",
        "yhat = clf.predict(X_val_std)\n",
        "acc = accuracy_score(y_validation, yhat)\n",
        "print('Accuracy: %.3f' % acc)"
      ],
      "execution_count": null,
      "outputs": [
        {
          "output_type": "stream",
          "text": [
            "Accuracy: 0.925\n"
          ],
          "name": "stdout"
        }
      ]
    },
    {
      "cell_type": "markdown",
      "metadata": {
        "id": "6Tpj8fjgIgbF"
      },
      "source": [
        "## 2.2 Logistic Regression"
      ]
    },
    {
      "cell_type": "code",
      "metadata": {
        "id": "T37Ov7ItmYlv"
      },
      "source": [
        "# Logistic regression for multi class classification \n",
        "lr= LogisticRegression(max_iter=1000,random_state=0,solver='lbfgs').fit(X_train_std,y_train2)"
      ],
      "execution_count": null,
      "outputs": []
    },
    {
      "cell_type": "code",
      "metadata": {
        "colab": {
          "base_uri": "https://localhost:8080/"
        },
        "id": "Yo7l6G5wnvG6",
        "outputId": "872d29d1-e788-4030-ebb2-61c8e63ef888"
      },
      "source": [
        "# Accuracy of Logistic regeression, It is fair but it is not high enough\n",
        "yhat = lr.predict(X_val_std)\n",
        "acc = accuracy_score(y_validation, yhat)\n",
        "print('Accuracy: %.3f' % acc)"
      ],
      "execution_count": null,
      "outputs": [
        {
          "output_type": "stream",
          "text": [
            "Accuracy: 0.945\n"
          ],
          "name": "stdout"
        }
      ]
    },
    {
      "cell_type": "markdown",
      "metadata": {
        "id": "eQ7HybRMIr8X"
      },
      "source": [
        "## 2.3 Support Vector Machine"
      ]
    },
    {
      "cell_type": "code",
      "metadata": {
        "colab": {
          "base_uri": "https://localhost:8080/"
        },
        "id": "ZQmVZBUWutZg",
        "outputId": "eae0d068-39e5-46e5-ffc8-e29dfbffb823"
      },
      "source": [
        "# SVM with C value 100 and linear kerenel \n",
        "from sklearn.svm import SVC\n",
        "\n",
        "svm = SVC(kernel='linear', C=100, random_state=1)\n",
        "svm.fit(X_train_std,y_train2)"
      ],
      "execution_count": null,
      "outputs": [
        {
          "output_type": "execute_result",
          "data": {
            "text/plain": [
              "SVC(C=100, break_ties=False, cache_size=200, class_weight=None, coef0=0.0,\n",
              "    decision_function_shape='ovr', degree=3, gamma='scale', kernel='linear',\n",
              "    max_iter=-1, probability=False, random_state=1, shrinking=True, tol=0.001,\n",
              "    verbose=False)"
            ]
          },
          "metadata": {
            "tags": []
          },
          "execution_count": 45
        }
      ]
    },
    {
      "cell_type": "code",
      "metadata": {
        "colab": {
          "base_uri": "https://localhost:8080/"
        },
        "id": "i9DYlFaAu7tW",
        "outputId": "2193bdf2-75d0-4f78-897e-67b16882f5ed"
      },
      "source": [
        "# Accuracy of SVM for linear kerenel, it is fair but it is not high enough \n",
        "yhat = svm.predict(X_val_std)\n",
        "acc = accuracy_score(y_validation, yhat)\n",
        "print('Accuracy: %.3f' % acc)"
      ],
      "execution_count": null,
      "outputs": [
        {
          "output_type": "stream",
          "text": [
            "Accuracy: 0.945\n"
          ],
          "name": "stdout"
        }
      ]
    },
    {
      "cell_type": "code",
      "metadata": {
        "id": "F48m6qkmvFA7"
      },
      "source": [
        "# plt.figure(figsize=(10,6))\n",
        "# plot_decision_regions(X_two_feat, \n",
        "#                       y_train2,\n",
        "#                       classifier=svm)\n",
        "\n",
        "# plt.xlabel(\"MajorAxisLength\")\n",
        "# plt.ylabel(\"ShapeFactor3\")\n",
        "\n",
        "# plt.title('Major Axis Length vs Shape Factor3 by SVM')\n",
        "# plt.legend(loc='upper right')\n",
        "# plt.show()\n",
        "\n",
        "# plt.show()"
      ],
      "execution_count": null,
      "outputs": []
    },
    {
      "cell_type": "markdown",
      "metadata": {
        "id": "9NhNRLZsCbPm"
      },
      "source": [
        "![picture](https://drive.google.com/uc?export=download&id=19NLPkiBvXALHL_DNfnIEqaeTsVo2ZnBF)\n"
      ]
    },
    {
      "cell_type": "markdown",
      "metadata": {
        "id": "8NUVqlCheQ9_"
      },
      "source": [
        "##2.4 Non-Linear SVM"
      ]
    },
    {
      "cell_type": "code",
      "metadata": {
        "colab": {
          "base_uri": "https://localhost:8080/"
        },
        "id": "8n7Rb2TzefU4",
        "outputId": "15ae8971-4f22-42b2-948c-4a4473cf6fa0"
      },
      "source": [
        "# SVM with nonlinear kernel for C is 0.1 and gamma is 0.001\n",
        "svm = SVC(kernel='rbf', random_state=1, gamma=0.001, C=0.1)\n",
        "svm.fit(X_train_std, y_train2)\n",
        "\n"
      ],
      "execution_count": null,
      "outputs": [
        {
          "output_type": "execute_result",
          "data": {
            "text/plain": [
              "SVC(C=0.1, break_ties=False, cache_size=200, class_weight=None, coef0=0.0,\n",
              "    decision_function_shape='ovr', degree=3, gamma=0.001, kernel='rbf',\n",
              "    max_iter=-1, probability=False, random_state=1, shrinking=True, tol=0.001,\n",
              "    verbose=False)"
            ]
          },
          "metadata": {
            "tags": []
          },
          "execution_count": 49
        }
      ]
    },
    {
      "cell_type": "code",
      "metadata": {
        "colab": {
          "base_uri": "https://localhost:8080/"
        },
        "id": "elw2StESew51",
        "outputId": "f019eb23-07f4-4494-83b6-1001dd1e59d6"
      },
      "source": [
        "# Accuracy of nonlinear kernel SVM, is not high enough.\n",
        "yhat = svm.predict(X_val_std)\n",
        "acc = accuracy_score(y_validation, yhat)\n",
        "print('Accuracy: %.3f' % acc)"
      ],
      "execution_count": null,
      "outputs": [
        {
          "output_type": "stream",
          "text": [
            "Accuracy: 0.919\n"
          ],
          "name": "stdout"
        }
      ]
    },
    {
      "cell_type": "code",
      "metadata": {
        "id": "q4_xKcbUeuef"
      },
      "source": [
        "# plt.figure(figsize=(10,8))\n",
        "# plot_decision_regions(X_two_feat, y_train2,\n",
        "#                       classifier=svm)\n",
        "# plt.xlabel(\"MajorAxisLength\")\n",
        "# plt.ylabel(\"ShapeFactor3\")\n",
        "\n",
        "# plt.title('Major Axis Length vs Shape Factor3 by Non_Linear SVM')\n",
        "# plt.legend(loc='upper left')\n",
        "# plt.show()\n",
        "\n",
        "# plt.show()"
      ],
      "execution_count": null,
      "outputs": []
    },
    {
      "cell_type": "markdown",
      "metadata": {
        "id": "z9Lj8xVqk39k"
      },
      "source": [
        "![picture](https://drive.google.com/uc?export=download&id=1sYO_UV1jS_34XZyAiq7uxQg_RjANKcJE)\n"
      ]
    },
    {
      "cell_type": "markdown",
      "metadata": {
        "id": "hvQk84QllOZW"
      },
      "source": [
        "##2.5 Decision Tree"
      ]
    },
    {
      "cell_type": "code",
      "metadata": {
        "colab": {
          "base_uri": "https://localhost:8080/"
        },
        "id": "0QJe-DoY8njy",
        "outputId": "527fec77-fc7a-4d99-d82c-d4200f4db035"
      },
      "source": [
        "# Decision Tree with depth 8 and criterion is gini\n",
        "\n",
        "tree_model = DecisionTreeClassifier(criterion='gini', \n",
        "                                    max_depth=8, \n",
        "                                    random_state=1)\n",
        "tree_model.fit(X_train_std, y_train2)"
      ],
      "execution_count": null,
      "outputs": [
        {
          "output_type": "execute_result",
          "data": {
            "text/plain": [
              "DecisionTreeClassifier(ccp_alpha=0.0, class_weight=None, criterion='gini',\n",
              "                       max_depth=8, max_features=None, max_leaf_nodes=None,\n",
              "                       min_impurity_decrease=0.0, min_impurity_split=None,\n",
              "                       min_samples_leaf=1, min_samples_split=2,\n",
              "                       min_weight_fraction_leaf=0.0, presort='deprecated',\n",
              "                       random_state=1, splitter='best')"
            ]
          },
          "metadata": {
            "tags": []
          },
          "execution_count": 52
        }
      ]
    },
    {
      "cell_type": "code",
      "metadata": {
        "id": "FiBpFdWLy9HU"
      },
      "source": [
        "# plt.figure(figsize=(10,8))\n",
        "# plot_decision_regions(X_two_feat, y_train2, \n",
        "#                       classifier=tree_model)\n",
        "# plt.xlabel(\"MajorAxisLength\")\n",
        "# plt.ylabel(\"ShapeFactor3\")\n",
        "\n",
        "# plt.title('Major Axis Length vs Shape Factor3 by Decision Tree')\n",
        "# plt.legend(loc='upper left')\n",
        "# plt.show()"
      ],
      "execution_count": null,
      "outputs": []
    },
    {
      "cell_type": "markdown",
      "metadata": {
        "id": "6dVpoptOy_Ye"
      },
      "source": [
        "![picture](https://drive.google.com/uc?export=download&id=16yHNsK9EXfuoeU2nE71umMLtK0iu9Lp-)\n"
      ]
    },
    {
      "cell_type": "code",
      "metadata": {
        "colab": {
          "base_uri": "https://localhost:8080/"
        },
        "id": "sT_mELqNmt76",
        "outputId": "943ddace-14cf-496d-cc56-bb685ba01ade"
      },
      "source": [
        "# An accuracy for decision tree, It is not high enough\n",
        "yhat = tree_model.predict(X_val_std)\n",
        "acc = accuracy_score(y_validation, yhat)\n",
        "print('Accuracy: %.3f' % acc)"
      ],
      "execution_count": null,
      "outputs": [
        {
          "output_type": "stream",
          "text": [
            "Accuracy: 0.934\n"
          ],
          "name": "stdout"
        }
      ]
    },
    {
      "cell_type": "code",
      "metadata": {
        "id": "T8fES1jV7Ewy"
      },
      "source": [
        "\n",
        "# plt.figure(figsize=(50,30))  \n",
        "# tree.plot_tree(tree_model, feature_names = X_train_std, \n",
        "#              filled=True, fontsize=20, rounded = True, max_depth = 4)\n",
        "# plt.show()"
      ],
      "execution_count": null,
      "outputs": []
    },
    {
      "cell_type": "markdown",
      "metadata": {
        "id": "goi5WL1EoMlX"
      },
      "source": [
        "##2.6 Feature Transformation with PCA"
      ]
    },
    {
      "cell_type": "markdown",
      "metadata": {
        "id": "oKoLW_p3opNq"
      },
      "source": [
        "we have trained some models so far and we haven not gotten high enough accuracy. Thus we have implemented different techinques to improve the accuracy performance."
      ]
    },
    {
      "cell_type": "code",
      "metadata": {
        "id": "mWFkcsFloSgb"
      },
      "source": [
        "# PCA for 2 features \n",
        "\n",
        "pca = PCA(n_components=2)\n",
        "X_train_pca = pca.fit_transform(X_train_std)\n",
        "X_val_pca = pca.fit_transform(X_val_std)"
      ],
      "execution_count": null,
      "outputs": []
    },
    {
      "cell_type": "markdown",
      "metadata": {
        "id": "Ux29ogxO03FV"
      },
      "source": [
        "### 2.6.1 Logistic regression with PCA"
      ]
    },
    {
      "cell_type": "code",
      "metadata": {
        "id": "j6s_Ki_zqcME"
      },
      "source": [
        "# PCA for logistic regression\n",
        "lr = LogisticRegression(penalty='l2',multi_class='ovr', max_iter=10000, random_state=1, solver='lbfgs')\n",
        "                                           \n",
        "lr = lr.fit(X_train_pca, y_train2)"
      ],
      "execution_count": null,
      "outputs": []
    },
    {
      "cell_type": "code",
      "metadata": {
        "colab": {
          "base_uri": "https://localhost:8080/"
        },
        "id": "kujib0J1p0h4",
        "outputId": "166dba01-bf1b-41d6-9d0b-39f446371adb"
      },
      "source": [
        "# Accuracy for PCA logistic regeression, which is lower than the value without using PCA for logistic regeression\n",
        "yhat = lr.predict(X_val_pca)\n",
        "acc = accuracy_score(y_validation, yhat)\n",
        "print('Accuracy: %.3f' % acc)"
      ],
      "execution_count": null,
      "outputs": [
        {
          "output_type": "stream",
          "text": [
            "Accuracy: 0.862\n"
          ],
          "name": "stdout"
        }
      ]
    },
    {
      "cell_type": "code",
      "metadata": {
        "id": "UNGxwULasxCX",
        "colab": {
          "base_uri": "https://localhost:8080/",
          "height": 441
        },
        "outputId": "3c0b35b2-5074-444e-a0bc-b6648f919fb3"
      },
      "source": [
        "plt.figure(figsize=(8,6))\n",
        "plot_decision_regions(X_train_pca, y_train2, classifier=lr)\n",
        "plt.xlabel('PC 1')\n",
        "plt.ylabel('PC 2')\n",
        "plt.legend(loc='lower left')\n",
        "plt.tight_layout()\n",
        "plt.show()"
      ],
      "execution_count": null,
      "outputs": [
        {
          "output_type": "display_data",
          "data": {
            "image/png": "[encoded data removed]",
            "text/plain": [
              "<Figure size 576x432 with 1 Axes>"
            ]
          },
          "metadata": {
            "tags": [],
            "needs_background": "light"
          }
        }
      ]
    },
    {
      "cell_type": "markdown",
      "metadata": {
        "id": "z1aZivT_slrZ"
      },
      "source": [
        "###2.6.2 Non-Linear SVM with PCA"
      ]
    },
    {
      "cell_type": "code",
      "metadata": {
        "colab": {
          "base_uri": "https://localhost:8080/"
        },
        "id": "fwJ7uLWmrNUf",
        "outputId": "e8529d18-e056-48d3-a626-bca6234369b3"
      },
      "source": [
        "# PCA with nonlinear kernel SVM, with gamma 0.1 and C is 100\n",
        "svm = SVC(kernel='rbf', random_state=1, gamma=0.1, C=100)\n",
        "svm.fit(X_train_pca, y_train2)"
      ],
      "execution_count": null,
      "outputs": [
        {
          "output_type": "execute_result",
          "data": {
            "text/plain": [
              "SVC(C=100, break_ties=False, cache_size=200, class_weight=None, coef0=0.0,\n",
              "    decision_function_shape='ovr', degree=3, gamma=0.1, kernel='rbf',\n",
              "    max_iter=-1, probability=False, random_state=1, shrinking=True, tol=0.001,\n",
              "    verbose=False)"
            ]
          },
          "metadata": {
            "tags": []
          },
          "execution_count": 60
        }
      ]
    },
    {
      "cell_type": "code",
      "metadata": {
        "colab": {
          "base_uri": "https://localhost:8080/"
        },
        "id": "lRJEO-q6rWdi",
        "outputId": "ef01603e-16c8-4582-afa2-fe6c661f4a7b"
      },
      "source": [
        "# The Accuracy of PCA SVM, the value is lower than the value we used with out PCA\n",
        "yhat = svm.predict(X_val_pca)\n",
        "acc = accuracy_score(y_validation, yhat)\n",
        "print('Accuracy: %.3f' % acc)"
      ],
      "execution_count": null,
      "outputs": [
        {
          "output_type": "stream",
          "text": [
            "Accuracy: 0.871\n"
          ],
          "name": "stdout"
        }
      ]
    },
    {
      "cell_type": "markdown",
      "metadata": {
        "id": "926N7xMxropd"
      },
      "source": [
        "###2.6.3 RandomForest with PCA"
      ]
    },
    {
      "cell_type": "code",
      "metadata": {
        "id": "dFxoF1zArr9K",
        "colab": {
          "base_uri": "https://localhost:8080/"
        },
        "outputId": "794ff871-a477-4b76-b450-5bae9d3ec90c"
      },
      "source": [
        "# RandomForest with pca, estimators 30, criterion gini\n",
        "\n",
        "forest = RandomForestClassifier(criterion='gini',\n",
        "                                n_estimators=30, \n",
        "                                random_state=1,\n",
        "                                n_jobs=2)\n",
        "forest.fit(X_train_pca, y_train2)"
      ],
      "execution_count": null,
      "outputs": [
        {
          "output_type": "execute_result",
          "data": {
            "text/plain": [
              "RandomForestClassifier(bootstrap=True, ccp_alpha=0.0, class_weight=None,\n",
              "                       criterion='gini', max_depth=None, max_features='auto',\n",
              "                       max_leaf_nodes=None, max_samples=None,\n",
              "                       min_impurity_decrease=0.0, min_impurity_split=None,\n",
              "                       min_samples_leaf=1, min_samples_split=2,\n",
              "                       min_weight_fraction_leaf=0.0, n_estimators=30, n_jobs=2,\n",
              "                       oob_score=False, random_state=1, verbose=0,\n",
              "                       warm_start=False)"
            ]
          },
          "metadata": {
            "tags": []
          },
          "execution_count": 62
        }
      ]
    },
    {
      "cell_type": "code",
      "metadata": {
        "colab": {
          "base_uri": "https://localhost:8080/"
        },
        "id": "hyQrMJSTr7CX",
        "outputId": "913d7917-57ca-40b6-ddfc-5b446f64d091"
      },
      "source": [
        "#The accuracy of PCA RandomForest, which is not good enough\n",
        "yhat = forest.predict(X_val_pca)\n",
        "acc = accuracy_score(y_validation, yhat)\n",
        "print('Accuracy: %.3f' % acc)"
      ],
      "execution_count": null,
      "outputs": [
        {
          "output_type": "stream",
          "text": [
            "Accuracy: 0.857\n"
          ],
          "name": "stdout"
        }
      ]
    },
    {
      "cell_type": "markdown",
      "metadata": {
        "id": "EBXlzsUHKN-m"
      },
      "source": [
        "##2.7 Ensemble Method (Bagging)"
      ]
    },
    {
      "cell_type": "markdown",
      "metadata": {
        "id": "h-QfSIQe43ap"
      },
      "source": [
        "Because of the time constraint we have gove for feature selection in bagging. For feature selection we have used three techniques which are Univarient Selection, Feature Importance and Heat Map."
      ]
    },
    {
      "cell_type": "markdown",
      "metadata": {
        "id": "X2ikfk3o5Wz1"
      },
      "source": [
        "###2.7.1 Univarient Selection"
      ]
    },
    {
      "cell_type": "markdown",
      "metadata": {
        "id": "UdIpZAMd5o5j"
      },
      "source": [
        "In Univarient selection we select the features that have the strongest relationship between thee output. We have gone for chi-squared staatistical test which gives reliable results on categorical output data as in our case."
      ]
    },
    {
      "cell_type": "code",
      "metadata": {
        "id": "K-X3PG1yfa6s"
      },
      "source": [
        "from sklearn.feature_selection import SelectKBest\n",
        "from sklearn.feature_selection import chi2\n",
        "x= Bean_df.iloc[:,0:16]\n",
        "y = Bean_df.iloc[:,-2]"
      ],
      "execution_count": null,
      "outputs": []
    },
    {
      "cell_type": "code",
      "metadata": {
        "id": "BU2FjcvK7OPj"
      },
      "source": [
        "#apply SelectKBest class to extract top best features\n",
        "bestfeatures =  SelectKBest(score_func = chi2, k=10)\n",
        "fit = bestfeatures.fit(x,y)"
      ],
      "execution_count": null,
      "outputs": []
    },
    {
      "cell_type": "code",
      "metadata": {
        "id": "V4FCUeEq7g5T"
      },
      "source": [
        "dfscores= pd.DataFrame(fit.scores_)\n",
        "dfcolumns = pd.DataFrame(x.columns)"
      ],
      "execution_count": null,
      "outputs": []
    },
    {
      "cell_type": "code",
      "metadata": {
        "id": "XcmkomL68ErJ"
      },
      "source": [
        "featureScores = pd.concat([dfcolumns,dfscores],axis=1)"
      ],
      "execution_count": null,
      "outputs": []
    },
    {
      "cell_type": "code",
      "metadata": {
        "colab": {
          "base_uri": "https://localhost:8080/",
          "height": 521
        },
        "id": "AJfr0tQJ8Qge",
        "outputId": "af641dc1-bb85-43e1-990a-a1ab4786b383"
      },
      "source": [
        ""
      ],
      "execution_count": null,
      "outputs": [
        {
          "output_type": "execute_result",
          "data": {
            "text/html": [
              "<div>\n",
              "<style scoped>\n",
              "    .dataframe tbody tr th:only-of-type {\n",
              "        vertical-align: middle;\n",
              "    }\n",
              "\n",
              "    .dataframe tbody tr th {\n",
              "        vertical-align: top;\n",
              "    }\n",
              "\n",
              "    .dataframe thead th {\n",
              "        text-align: right;\n",
              "    }\n",
              "</style>\n",
              "<table border=\"1\" class=\"dataframe\">\n",
              "  <thead>\n",
              "    <tr style=\"text-align: right;\">\n",
              "      <th></th>\n",
              "      <th>0</th>\n",
              "      <th>0</th>\n",
              "    </tr>\n",
              "  </thead>\n",
              "  <tbody>\n",
              "    <tr>\n",
              "      <th>0</th>\n",
              "      <td>Area</td>\n",
              "      <td>2.046265e+08</td>\n",
              "    </tr>\n",
              "    <tr>\n",
              "      <th>1</th>\n",
              "      <td>Perimeter</td>\n",
              "      <td>6.682831e+05</td>\n",
              "    </tr>\n",
              "    <tr>\n",
              "      <th>2</th>\n",
              "      <td>MajorAxisLength</td>\n",
              "      <td>2.822661e+05</td>\n",
              "    </tr>\n",
              "    <tr>\n",
              "      <th>3</th>\n",
              "      <td>MinorAxisLength</td>\n",
              "      <td>1.234098e+05</td>\n",
              "    </tr>\n",
              "    <tr>\n",
              "      <th>4</th>\n",
              "      <td>AspectRation</td>\n",
              "      <td>4.218315e+02</td>\n",
              "    </tr>\n",
              "    <tr>\n",
              "      <th>5</th>\n",
              "      <td>Eccentricity</td>\n",
              "      <td>1.193048e+02</td>\n",
              "    </tr>\n",
              "    <tr>\n",
              "      <th>6</th>\n",
              "      <td>ConvexArea</td>\n",
              "      <td>2.081144e+08</td>\n",
              "    </tr>\n",
              "    <tr>\n",
              "      <th>7</th>\n",
              "      <td>EquivDiameter</td>\n",
              "      <td>1.729390e+05</td>\n",
              "    </tr>\n",
              "    <tr>\n",
              "      <th>8</th>\n",
              "      <td>Extent</td>\n",
              "      <td>6.887459e+00</td>\n",
              "    </tr>\n",
              "    <tr>\n",
              "      <th>9</th>\n",
              "      <td>Solidity</td>\n",
              "      <td>6.502619e-02</td>\n",
              "    </tr>\n",
              "    <tr>\n",
              "      <th>10</th>\n",
              "      <td>roundness</td>\n",
              "      <td>3.986173e+01</td>\n",
              "    </tr>\n",
              "    <tr>\n",
              "      <th>11</th>\n",
              "      <td>Compactness</td>\n",
              "      <td>5.214665e+01</td>\n",
              "    </tr>\n",
              "    <tr>\n",
              "      <th>12</th>\n",
              "      <td>ShapeFactor1</td>\n",
              "      <td>2.219902e+00</td>\n",
              "    </tr>\n",
              "    <tr>\n",
              "      <th>13</th>\n",
              "      <td>ShapeFactor2</td>\n",
              "      <td>2.357258e+00</td>\n",
              "    </tr>\n",
              "    <tr>\n",
              "      <th>14</th>\n",
              "      <td>ShapeFactor3</td>\n",
              "      <td>1.660602e+02</td>\n",
              "    </tr>\n",
              "    <tr>\n",
              "      <th>15</th>\n",
              "      <td>ShapeFactor4</td>\n",
              "      <td>9.229116e-02</td>\n",
              "    </tr>\n",
              "  </tbody>\n",
              "</table>\n",
              "</div>"
            ],
            "text/plain": [
              "                  0             0\n",
              "0              Area  2.046265e+08\n",
              "1         Perimeter  6.682831e+05\n",
              "2   MajorAxisLength  2.822661e+05\n",
              "3   MinorAxisLength  1.234098e+05\n",
              "4      AspectRation  4.218315e+02\n",
              "5      Eccentricity  1.193048e+02\n",
              "6        ConvexArea  2.081144e+08\n",
              "7     EquivDiameter  1.729390e+05\n",
              "8            Extent  6.887459e+00\n",
              "9          Solidity  6.502619e-02\n",
              "10        roundness  3.986173e+01\n",
              "11      Compactness  5.214665e+01\n",
              "12     ShapeFactor1  2.219902e+00\n",
              "13     ShapeFactor2  2.357258e+00\n",
              "14     ShapeFactor3  1.660602e+02\n",
              "15     ShapeFactor4  9.229116e-02"
            ]
          },
          "metadata": {
            "tags": []
          },
          "execution_count": 69
        }
      ]
    },
    {
      "cell_type": "code",
      "metadata": {
        "colab": {
          "base_uri": "https://localhost:8080/"
        },
        "id": "YUJIycX_8SIR",
        "outputId": "e9e60f79-0b9a-4c0f-f96f-827224ed2877"
      },
      "source": [
        "X = df.iloc[:,0:15] \n",
        "y = df.iloc[:,-1]   \n",
        "bestfeatures = SelectKBest(score_func=chi2, k=10)\n",
        "fit = bestfeatures.fit(X,y)\n",
        "dfscores = pd.DataFrame(fit.scores_)\n",
        "dfcolumns = pd.DataFrame(X.columns)\n",
        "featureScores = pd.concat([dfcolumns,dfscores],axis=1)\n",
        "featureScores.columns = ['Specs','Score']\n",
        "featureScores.nlargest(14,'Score')"
      ],
      "execution_count": null,
      "outputs": [
        {
          "output_type": "stream",
          "text": [
            "              Specs         Score\n",
            "6        ConvexArea  7.019972e+07\n",
            "0              Area  6.846884e+07\n",
            "1         Perimeter  3.573150e+05\n",
            "2   MajorAxisLength  1.661935e+05\n",
            "7     EquivDiameter  8.065242e+04\n",
            "3   MinorAxisLength  5.050441e+04\n",
            "4      AspectRation  4.219886e+02\n",
            "14     ShapeFactor3  1.654969e+02\n",
            "5      Eccentricity  1.190895e+02\n",
            "11      Compactness  5.202536e+01\n",
            "10        roundness  3.974331e+01\n",
            "8            Extent  6.322400e+00\n",
            "13     ShapeFactor2  2.085600e+00\n",
            "12     ShapeFactor1  1.449327e+00\n"
          ],
          "name": "stdout"
        }
      ]
    },
    {
      "cell_type": "code",
      "metadata": {
        "colab": {
          "base_uri": "https://localhost:8080/",
          "height": 491
        },
        "id": "roa32JeW9IXM",
        "outputId": "328f897a-9350-44a0-8cd4-7f81d42325a3"
      },
      "source": [
        "#print 10 best features\n",
        "featureScores"
      ],
      "execution_count": null,
      "outputs": [
        {
          "output_type": "execute_result",
          "data": {
            "text/html": [
              "<div>\n",
              "<style scoped>\n",
              "    .dataframe tbody tr th:only-of-type {\n",
              "        vertical-align: middle;\n",
              "    }\n",
              "\n",
              "    .dataframe tbody tr th {\n",
              "        vertical-align: top;\n",
              "    }\n",
              "\n",
              "    .dataframe thead th {\n",
              "        text-align: right;\n",
              "    }\n",
              "</style>\n",
              "<table border=\"1\" class=\"dataframe\">\n",
              "  <thead>\n",
              "    <tr style=\"text-align: right;\">\n",
              "      <th></th>\n",
              "      <th>Specs</th>\n",
              "      <th>Score</th>\n",
              "    </tr>\n",
              "  </thead>\n",
              "  <tbody>\n",
              "    <tr>\n",
              "      <th>0</th>\n",
              "      <td>Area</td>\n",
              "      <td>6.846884e+07</td>\n",
              "    </tr>\n",
              "    <tr>\n",
              "      <th>1</th>\n",
              "      <td>Perimeter</td>\n",
              "      <td>3.573150e+05</td>\n",
              "    </tr>\n",
              "    <tr>\n",
              "      <th>2</th>\n",
              "      <td>MajorAxisLength</td>\n",
              "      <td>1.661935e+05</td>\n",
              "    </tr>\n",
              "    <tr>\n",
              "      <th>3</th>\n",
              "      <td>MinorAxisLength</td>\n",
              "      <td>5.050441e+04</td>\n",
              "    </tr>\n",
              "    <tr>\n",
              "      <th>4</th>\n",
              "      <td>AspectRation</td>\n",
              "      <td>4.219886e+02</td>\n",
              "    </tr>\n",
              "    <tr>\n",
              "      <th>5</th>\n",
              "      <td>Eccentricity</td>\n",
              "      <td>1.190895e+02</td>\n",
              "    </tr>\n",
              "    <tr>\n",
              "      <th>6</th>\n",
              "      <td>ConvexArea</td>\n",
              "      <td>7.019972e+07</td>\n",
              "    </tr>\n",
              "    <tr>\n",
              "      <th>7</th>\n",
              "      <td>EquivDiameter</td>\n",
              "      <td>8.065242e+04</td>\n",
              "    </tr>\n",
              "    <tr>\n",
              "      <th>8</th>\n",
              "      <td>Extent</td>\n",
              "      <td>6.322400e+00</td>\n",
              "    </tr>\n",
              "    <tr>\n",
              "      <th>9</th>\n",
              "      <td>Solidity</td>\n",
              "      <td>6.450362e-02</td>\n",
              "    </tr>\n",
              "    <tr>\n",
              "      <th>10</th>\n",
              "      <td>roundness</td>\n",
              "      <td>3.974331e+01</td>\n",
              "    </tr>\n",
              "    <tr>\n",
              "      <th>11</th>\n",
              "      <td>Compactness</td>\n",
              "      <td>5.202536e+01</td>\n",
              "    </tr>\n",
              "    <tr>\n",
              "      <th>12</th>\n",
              "      <td>ShapeFactor1</td>\n",
              "      <td>1.449327e+00</td>\n",
              "    </tr>\n",
              "    <tr>\n",
              "      <th>13</th>\n",
              "      <td>ShapeFactor2</td>\n",
              "      <td>2.085600e+00</td>\n",
              "    </tr>\n",
              "    <tr>\n",
              "      <th>14</th>\n",
              "      <td>ShapeFactor3</td>\n",
              "      <td>1.654969e+02</td>\n",
              "    </tr>\n",
              "  </tbody>\n",
              "</table>\n",
              "</div>"
            ],
            "text/plain": [
              "              Specs         Score\n",
              "0              Area  6.846884e+07\n",
              "1         Perimeter  3.573150e+05\n",
              "2   MajorAxisLength  1.661935e+05\n",
              "3   MinorAxisLength  5.050441e+04\n",
              "4      AspectRation  4.219886e+02\n",
              "5      Eccentricity  1.190895e+02\n",
              "6        ConvexArea  7.019972e+07\n",
              "7     EquivDiameter  8.065242e+04\n",
              "8            Extent  6.322400e+00\n",
              "9          Solidity  6.450362e-02\n",
              "10        roundness  3.974331e+01\n",
              "11      Compactness  5.202536e+01\n",
              "12     ShapeFactor1  1.449327e+00\n",
              "13     ShapeFactor2  2.085600e+00\n",
              "14     ShapeFactor3  1.654969e+02"
            ]
          },
          "metadata": {
            "tags": []
          },
          "execution_count": 71
        }
      ]
    },
    {
      "cell_type": "markdown",
      "metadata": {
        "id": "C00iDpwN7ES6"
      },
      "source": [
        "### 2.7.2 Feature Importance"
      ]
    },
    {
      "cell_type": "markdown",
      "metadata": {
        "id": "lA0KbxrH7Mg4"
      },
      "source": [
        "Feature importance gives the score for each feature, the higher the value, more revelant is the feture towards the output. It has an inbuilt class that comes with the tree based classifier."
      ]
    },
    {
      "cell_type": "code",
      "metadata": {
        "colab": {
          "base_uri": "https://localhost:8080/",
          "height": 315
        },
        "id": "WtO7C-Or9c11",
        "outputId": "ecf37a59-b45e-44c4-a3e5-7f84739a4341"
      },
      "source": [
        "model = ExtraTreesClassifier()\n",
        "model.fit(X,y)\n",
        "print(model.feature_importances_) #use inbuilt class feature_importances of tree based classifiers\n",
        "#plot graph of feature importances for better visualization\n",
        "feat_importances = pd.Series(model.feature_importances_, index=X.columns)\n",
        "feat_importances.nlargest(14).plot(kind='barh')\n",
        "plt.show()"
      ],
      "execution_count": null,
      "outputs": [
        {
          "output_type": "stream",
          "text": [
            "[0.07313461 0.0763735  0.06924819 0.06484742 0.08558448 0.07075119\n",
            " 0.06830748 0.07127495 0.0152065  0.01983656 0.06245432 0.07592679\n",
            " 0.08098697 0.07772688 0.08834016]\n"
          ],
          "name": "stdout"
        },
        {
          "output_type": "display_data",
          "data": {
            "image/png": "[encoded data removed]",
            "text/plain": [
              "<Figure size 432x288 with 1 Axes>"
            ]
          },
          "metadata": {
            "tags": [],
            "needs_background": "light"
          }
        }
      ]
    },
    {
      "cell_type": "markdown",
      "metadata": {
        "id": "zRoBSZJ97w-S"
      },
      "source": [
        "### 2.7.3 Heat map"
      ]
    },
    {
      "cell_type": "code",
      "metadata": {
        "colab": {
          "base_uri": "https://localhost:8080/",
          "height": 1000
        },
        "id": "jB2_NVrj-FkY",
        "outputId": "0f5443ab-1f72-46ba-fb21-b19f7429c905"
      },
      "source": [
        "\n",
        "corrmat = df.corr()\n",
        "top_corr_features = corrmat.index\n",
        "plt.figure(figsize=(20,20))\n",
        "#plot heat map\n",
        "g=sns.heatmap(df[top_corr_features].corr(),annot=True,cmap=\"RdYlGn\")"
      ],
      "execution_count": null,
      "outputs": [
        {
          "output_type": "display_data",
          "data": {
            "image/png": "[encoded data removed]",
            "text/plain": [
              "<Figure size 1440x1440 with 2 Axes>"
            ]
          },
          "metadata": {
            "tags": [],
            "needs_background": "light"
          }
        }
      ]
    },
    {
      "cell_type": "markdown",
      "metadata": {
        "id": "zFu6SbU279VL"
      },
      "source": [
        "Based on the feature scores and heat map, we have selected the features which have higher scores and not co-related among themselves. The selected features are Perimeter, ConvexArea, Roundness, Shapefactor3 ans"
      ]
    },
    {
      "cell_type": "code",
      "metadata": {
        "id": "US9etk3_62kR"
      },
      "source": [
        "X_train_final= (X_train[:,[1,6,10,14,15]])\n",
        "X_test_final= (X_test[:,[1,6,10,14,15]])"
      ],
      "execution_count": null,
      "outputs": []
    },
    {
      "cell_type": "code",
      "metadata": {
        "id": "4lM6OMxA8JYW"
      },
      "source": [
        "from sklearn.ensemble import BaggingClassifier\n",
        "from sklearn.tree import DecisionTreeClassifier\n",
        "tree = DecisionTreeClassifier(criterion='entropy', \n",
        "                              max_depth=None,\n",
        "                              random_state=1)\n",
        "\n",
        "bag = BaggingClassifier(base_estimator=tree,\n",
        "                        n_estimators=150, \n",
        "                        max_samples=1.0, \n",
        "                        max_features=1.0, \n",
        "                        bootstrap=True, \n",
        "                        bootstrap_features=False, \n",
        "                        n_jobs=1, \n",
        "                        random_state=1)"
      ],
      "execution_count": null,
      "outputs": []
    },
    {
      "cell_type": "code",
      "metadata": {
        "id": "p177I6Gtw5Aw",
        "cellView": "code",
        "colab": {
          "base_uri": "https://localhost:8080/"
        },
        "outputId": "25a4bc8c-4e89-4425-a307-820ca7826506"
      },
      "source": [
        "\n",
        "bag = bag.fit(X_train_final, y_train)\n",
        "y_train_pred = bag.predict(X_train_final)\n",
        "y_test_pred = bag.predict(X_test_final)\n",
        "\n",
        "bag_train = accuracy_score(y_train, y_train_pred) \n",
        "bag_test = accuracy_score(y_test, y_test_pred) \n",
        "print('Bagging train/test accuracies %.3f/%.3f'\n",
        "      % (bag_train, bag_test))\n"
      ],
      "execution_count": null,
      "outputs": [
        {
          "output_type": "stream",
          "text": [
            "Bagging train/test accuracies 1.000/0.951\n"
          ],
          "name": "stdout"
        }
      ]
    },
    {
      "cell_type": "markdown",
      "metadata": {
        "id": "p5Z81un89cPD"
      },
      "source": [
        "After feature selection and training bagging model with selected features we got train accuracy result as 100% and test accuracy result as 95%"
      ]
    },
    {
      "cell_type": "markdown",
      "metadata": {
        "id": "SDJfqHFCdvsi"
      },
      "source": [
        "#2.8 Assess the model using Cross validation with kfold 10"
      ]
    },
    {
      "cell_type": "code",
      "metadata": {
        "id": "fIOYAvN6d2Nt"
      },
      "source": [
        "\n",
        "\n",
        "# kfold = StratifiedKFold(n_splits=10).split(X_train, y_train)\n",
        "\n",
        "# scores = []\n",
        "# for k, (train, test) in enumerate(kfold):\n",
        "#     lr.fit(X_train[train], y_train[train])\n",
        "#     score = lr.score(X_train[test], y_train[test])\n",
        "#     scores.append(score)\n",
        "#     print('Fold: %2d, Class dist.: %s, Acc: %.3f' % (k+1,\n",
        "#          np.bincount(y_train[train]), score))\n",
        "    \n",
        "# print('\\nCV average accuracy: %.3f +/- %.3f' % (np.mean(scores), np.std(scores)))"
      ],
      "execution_count": null,
      "outputs": []
    },
    {
      "cell_type": "markdown",
      "metadata": {
        "id": "vhITKQ-uSqXo"
      },
      "source": [
        "Fold:  1, Class dist.: [2552 2552 2552 2552 2553 2552 2553], Acc: 0.906\n",
        "\n",
        "Fold:  2, Class dist.: [2552 2552 2552 2552 2553 2552 2553], Acc: 0.888\n",
        "\n",
        "Fold:  3, Class dist.: [2552 2553 2553 2552 2553 2552 2552], Acc: 0.921\n",
        "\n",
        "Fold:  4, Class dist.: [2552 2553 2553 2552 2553 2552 2552], Acc: 0.899\n",
        "\n",
        "Fold:  5, Class dist.: [2552 2553 2553 2552 2552 2553 2552], Acc: 0.916\n",
        "\n",
        "Fold:  6, Class dist.: [2552 2553 2553 2552 2552 2553 2552], Acc: 0.899\n",
        "\n",
        "Fold:  7, Class dist.: [2553 2552 2552 2553 2552 2553 2552], Acc: 0.906\n",
        "\n",
        "Fold:  8, Class dist.: [2553 2552 2552 2553 2552 2553 2552], Acc: 0.923\n",
        "\n",
        "Fold:  9, Class dist.: [2553 2552 2552 2553 2552 2552 2553], Acc: 0.923\n",
        "\n",
        "Fold: 10, Class dist.: [2553 2552 2552 2553 2552 2552 2553], Acc: 0.908\n",
        "\n",
        "CV average accuracy: 0.909 +/- 0.011\n"
      ]
    },
    {
      "cell_type": "code",
      "metadata": {
        "colab": {
          "base_uri": "https://localhost:8080/"
        },
        "id": "V7XgMxvywrke",
        "outputId": "db714e35-dd97-4e22-d3db-3aa3ff897f6c"
      },
      "source": [
        "\n",
        "\n",
        "scores = cross_val_score(estimator=lr,\n",
        "                         X=X_train,\n",
        "                         y=y_train,\n",
        "                         cv=2,\n",
        "                         n_jobs=1)\n",
        "print('CV accuracy scores: %s' % scores)\n",
        "print('CV accuracy: %.3f +/- %.3f' % (np.mean(scores), np.std(scores)))"
      ],
      "execution_count": null,
      "outputs": [
        {
          "output_type": "stream",
          "text": [
            "CV accuracy scores: [0.89744106 0.91698569]\n",
            "CV accuracy: 0.907 +/- 0.010\n"
          ],
          "name": "stdout"
        }
      ]
    },
    {
      "cell_type": "markdown",
      "metadata": {
        "id": "-pUGWG-7-HJP"
      },
      "source": [
        "#2.9 Validation Curve\n"
      ]
    },
    {
      "cell_type": "markdown",
      "metadata": {
        "id": "6VbconZsjOls"
      },
      "source": [
        "Validation curve: It is a diagnostic tool to show how the accuracy of model changed when the parameter value changed.\n",
        "we used it for logistic regeression and checked the accuracy of the model while the value of parameter C increased. It provided the highest accuracy for this model at value C is 100 but It is not high enough.\n"
      ]
    },
    {
      "cell_type": "code",
      "metadata": {
        "id": "aFQKWdmWy0lG"
      },
      "source": [
        "#Make Pipeline to put multiple processes into one flow \n",
        "\n",
        "pipe_lr = make_pipeline(StandardScaler(),\n",
        "                        LogisticRegression(penalty='l2', random_state=1,\n",
        "                                           solver='lbfgs', max_iter=1000))"
      ],
      "execution_count": null,
      "outputs": []
    },
    {
      "cell_type": "code",
      "metadata": {
        "id": "zpdjPlr5jVMP"
      },
      "source": [
        "# validation curve for logistic regression model\n",
        "\n",
        "\n",
        "# param_range = [0.001, 0.01, 0.1, 1.0, 10.0, 100.0]\n",
        "# train_scores, test_scores = validation_curve(\n",
        "#                 estimator=pipe_lr, \n",
        "#                 X=X_train2, \n",
        "#                 y=y_train2, \n",
        "#                 param_name='logisticregression__C', \n",
        "#                 param_range=param_range,cv=10)\n",
        "\n",
        "# train_mean = np.mean(train_scores, axis=1)\n",
        "# train_std = np.std(train_scores, axis=1)\n",
        "# test_mean = np.mean(test_scores, axis=1)\n",
        "# test_std = np.std(test_scores, axis=1)\n",
        "\n",
        "# plt.plot(param_range, train_mean, \n",
        "#          color='blue', marker='o', \n",
        "#          markersize=5, label='Training accuracy')\n",
        "\n",
        "# plt.fill_between(param_range, train_mean + train_std,\n",
        "#                  train_mean - train_std, alpha=0.15,\n",
        "#                  color='blue')\n",
        "\n",
        "# plt.plot(param_range, test_mean, \n",
        "#          color='green', linestyle='--', \n",
        "#          marker='s', markersize=5, \n",
        "#          label='Validation accuracy')\n",
        "\n",
        "# plt.fill_between(param_range, \n",
        "#                  test_mean + test_std,\n",
        "#                  test_mean - test_std, \n",
        "#                  alpha=0.15, color='green')\n",
        "\n",
        "# plt.grid()\n",
        "# plt.xscale('log')\n",
        "# plt.legend(loc='lower right')\n",
        "# plt.xlabel('Parameter C')\n",
        "# plt.ylabel('Accuracy')\n",
        "# plt.ylim([0.925, 0.95])\n",
        "# plt.tight_layout()\n",
        "\n",
        "# plt.show()"
      ],
      "execution_count": null,
      "outputs": []
    },
    {
      "cell_type": "markdown",
      "metadata": {
        "id": "XfNFPFQcvOz_"
      },
      "source": [
        "\n",
        "\n",
        "# ![picture](https://drive.google.com/uc?export=download&id=1A_hB0SxnBJGZ76H9uh9Qev--9ouQtF68)\n"
      ]
    },
    {
      "cell_type": "markdown",
      "metadata": {
        "id": "SXW50tR5-RLr"
      },
      "source": [
        "#2.10 Tunning Hyperparameters with grid Search"
      ]
    },
    {
      "cell_type": "markdown",
      "metadata": {
        "id": "FMy45X2yzwjt"
      },
      "source": [
        "Tuning the hyperparameters using Gridsearch: It is a techinique to tune the parameters of the model and compute the accuracy of the model for different combinations of parameters to get the highest accuracy performance and its best combination of parameters.\n",
        "\n",
        "\n",
        "\n"
      ]
    },
    {
      "cell_type": "code",
      "metadata": {
        "id": "T_k7MkHUmiTq"
      },
      "source": [
        "#\n",
        "\n",
        "# pipe_svc = make_pipeline(StandardScaler(),\n",
        "#                          SVC(random_state=1))\n",
        "\n",
        "# param_range = [0.0001, 0.001, 0.01, 0.1, 1.0, 10.0, 100.0, 1000.0]\n",
        "\n",
        "# param_grid = [{'svc__C': param_range, \n",
        "#                'svc__kernel': ['linear']},\n",
        "#               {'svc__C': param_range, \n",
        "#                'svc__gamma': param_range, \n",
        "#                'svc__kernel': ['rbf','linear', 'poly', 'sigmoid', 'precomputed']}]\n",
        "\n",
        "# gs = GridSearchCV(estimator=pipe_svc, \n",
        "#                   param_grid=param_grid, \n",
        "#                   scoring='accuracy', \n",
        "#                   refit=True,\n",
        "#                   cv=10,\n",
        "#                   n_jobs=-1)\n",
        "# gs = gs.fit(X_train2, y_train2)\n",
        "# print(gs.best_score_)\n",
        "# print(gs.best_params_)"
      ],
      "execution_count": null,
      "outputs": []
    },
    {
      "cell_type": "code",
      "metadata": {
        "id": "ATs30cgrQD0P",
        "colab": {
          "base_uri": "https://localhost:8080/"
        },
        "outputId": "1843e23f-d802-4c29-8041-edc1d4ef62fe"
      },
      "source": [
        "# Based on the gridsearch we got these parameters\n",
        "\n",
        "pipe_svc = make_pipeline(\n",
        "                         SVC(random_state=1,C=100.0, gamma= 0.1, kernel='rbf'))\n",
        "pipe_svc.fit(X_train_std,y_train2)"
      ],
      "execution_count": null,
      "outputs": [
        {
          "output_type": "execute_result",
          "data": {
            "text/plain": [
              "Pipeline(memory=None,\n",
              "         steps=[('svc',\n",
              "                 SVC(C=100.0, break_ties=False, cache_size=200,\n",
              "                     class_weight=None, coef0=0.0,\n",
              "                     decision_function_shape='ovr', degree=3, gamma=0.1,\n",
              "                     kernel='rbf', max_iter=-1, probability=False,\n",
              "                     random_state=1, shrinking=True, tol=0.001,\n",
              "                     verbose=False))],\n",
              "         verbose=False)"
            ]
          },
          "metadata": {
            "tags": []
          },
          "execution_count": 82
        }
      ]
    },
    {
      "cell_type": "code",
      "metadata": {
        "id": "45nvJXdYQ9cw",
        "colab": {
          "base_uri": "https://localhost:8080/"
        },
        "outputId": "2064e85b-d02b-4e25-8e60-d7c8df5b1576"
      },
      "source": [
        "yhat = pipe_svc.predict(X_val_std)\n",
        "acc = accuracy_score(y_validation, yhat)\n",
        "print('Accuracy: %.3f' % acc)"
      ],
      "execution_count": null,
      "outputs": [
        {
          "output_type": "stream",
          "text": [
            "Accuracy: 0.950\n"
          ],
          "name": "stdout"
        }
      ]
    },
    {
      "cell_type": "markdown",
      "metadata": {
        "id": "3Pa9VHHTGfD3"
      },
      "source": [
        "we used SVM model to tune the parameters in gridsearch. After about 2 hours computation gridsearch provided the highest accuracy performance and its best combination of parameters.\n",
        "As we see 95% accuracy is the highest accuracy performance and the combination of parameters are nonlinear kernel , c is 100 and gamma is 0.1."
      ]
    },
    {
      "cell_type": "markdown",
      "metadata": {
        "id": "Ir3Beb095tAQ"
      },
      "source": [
        "Check the true vs predicted value through confusion matrix"
      ]
    },
    {
      "cell_type": "code",
      "metadata": {
        "id": "8FF3-4hf5scU",
        "colab": {
          "base_uri": "https://localhost:8080/"
        },
        "outputId": "5b1b32b1-7897-4464-92bc-e19dfc27a312"
      },
      "source": [
        "# check how the model predicted the validation dataset \n",
        "\n",
        "pipe_svc.fit(X_train_std, y_train2)\n",
        "y_pred = pipe_svc.predict(X_val_std)\n",
        "confmat = confusion_matrix(y_true=y_validation, y_pred=y_pred)\n",
        "print(confmat)"
      ],
      "execution_count": null,
      "outputs": [
        {
          "output_type": "stream",
          "text": [
            "[[542   0  14   0   0   4   7]\n",
            " [  0 567   0   0   0   0   0]\n",
            " [  7   0 545   0  12   0   3]\n",
            " [  0   0   0 524   3   6  34]\n",
            " [  0   0   5   8 541   0  14]\n",
            " [  3   0   0  11   0 541  13]\n",
            " [  2   0   2  42   7   2 512]]\n"
          ],
          "name": "stdout"
        }
      ]
    },
    {
      "cell_type": "markdown",
      "metadata": {
        "id": "VFszaahDIxc1"
      },
      "source": [
        "This model has done better than other models with all features and provided the highest accuracy but we have gotten some miss classified classes as we see from the confusion matrix."
      ]
    },
    {
      "cell_type": "code",
      "metadata": {
        "id": "bQwN_DmsSmpz",
        "colab": {
          "base_uri": "https://localhost:8080/",
          "height": 441
        },
        "outputId": "d4321587-1a76-4a3a-d165-bd6ff62f7195"
      },
      "source": [
        "#Confusion matrix\n",
        "fig, ax = plt.subplots(figsize=(8, 6))\n",
        "ax.matshow(confmat, cmap=plt.cm.Blues, alpha=0.3)\n",
        "for i in range(confmat.shape[0]):\n",
        "    for j in range(confmat.shape[1]):\n",
        "        ax.text(x=j, y=i, s=confmat[i, j], va='center', ha='center')\n",
        "\n",
        "plt.xlabel('Predicted label')\n",
        "plt.ylabel('True label')\n",
        "\n",
        "plt.tight_layout()\n",
        "plt.show()"
      ],
      "execution_count": null,
      "outputs": [
        {
          "output_type": "display_data",
          "data": {
            "image/png": "[encoded data removed]",
            "text/plain": [
              "<Figure size 576x432 with 1 Axes>"
            ]
          },
          "metadata": {
            "tags": [],
            "needs_background": "light"
          }
        }
      ]
    },
    {
      "cell_type": "markdown",
      "metadata": {
        "id": "FxFCB0iQCZ-h"
      },
      "source": [
        "# 2.10. keras Tensorflow\n",
        "#### We have used keras with 2 hidden layers, activation function relu for input and hidden layers, softmax for output layer.\n",
        "#### we have used two optimizers Adam and SGD. We got a better result with optimizer SGD.\n"
      ]
    },
    {
      "cell_type": "code",
      "metadata": {
        "id": "nUd88VhB_cDi"
      },
      "source": [
        "\n",
        "\n",
        "model = Sequential()\n",
        "\n",
        "model.add(Dense(16, activation='relu', input_shape=(16,)))\n",
        "model.add(Dense(64, activation='relu'))\n",
        "\n",
        "model.add(Dense(128, activation='relu'))\n",
        "\n",
        "model.add(Dense(7, activation='softmax'))"
      ],
      "execution_count": null,
      "outputs": []
    },
    {
      "cell_type": "code",
      "metadata": {
        "id": "dkboFiFfHGCX",
        "colab": {
          "base_uri": "https://localhost:8080/"
        },
        "outputId": "2e604c6d-00a9-4bc0-a22c-d4ece8c8354e"
      },
      "source": [
        "model.summary()"
      ],
      "execution_count": null,
      "outputs": [
        {
          "output_type": "stream",
          "text": [
            "Model: \"sequential\"\n",
            "_________________________________________________________________\n",
            "Layer (type)                 Output Shape              Param #   \n",
            "=================================================================\n",
            "dense (Dense)                (None, 16)                272       \n",
            "_________________________________________________________________\n",
            "dense_1 (Dense)              (None, 64)                1088      \n",
            "_________________________________________________________________\n",
            "dense_2 (Dense)              (None, 128)               8320      \n",
            "_________________________________________________________________\n",
            "dense_3 (Dense)              (None, 7)                 903       \n",
            "=================================================================\n",
            "Total params: 10,583\n",
            "Trainable params: 10,583\n",
            "Non-trainable params: 0\n",
            "_________________________________________________________________\n"
          ],
          "name": "stdout"
        }
      ]
    },
    {
      "cell_type": "code",
      "metadata": {
        "id": "Sz1USBhKHeqP",
        "colab": {
          "base_uri": "https://localhost:8080/"
        },
        "outputId": "524ed2b9-78d1-4688-95c7-e6e81b010c42"
      },
      "source": [
        " \n",
        "model.compile(optimizer='sgd',\n",
        "                   loss='sparse_categorical_crossentropy',\n",
        "                   metrics=['accuracy'])\n",
        "\n",
        "model.fit(X_train_std, y_train2,epochs=17, batch_size=10, verbose=1)  "
      ],
      "execution_count": null,
      "outputs": [
        {
          "output_type": "stream",
          "text": [
            "Epoch 1/17\n",
            "1589/1589 [==============================] - 2s 853us/step - loss: 0.1172 - accuracy: 0.9567\n",
            "Epoch 2/17\n",
            "1589/1589 [==============================] - 1s 862us/step - loss: 0.1111 - accuracy: 0.9576\n",
            "Epoch 3/17\n",
            "1589/1589 [==============================] - 1s 894us/step - loss: 0.1157 - accuracy: 0.9566\n",
            "Epoch 4/17\n",
            "1589/1589 [==============================] - 1s 867us/step - loss: 0.1101 - accuracy: 0.9576\n",
            "Epoch 5/17\n",
            "1589/1589 [==============================] - 1s 902us/step - loss: 0.1056 - accuracy: 0.9584\n",
            "Epoch 6/17\n",
            "1589/1589 [==============================] - 1s 848us/step - loss: 0.1071 - accuracy: 0.9577\n",
            "Epoch 7/17\n",
            "1589/1589 [==============================] - 1s 838us/step - loss: 0.1164 - accuracy: 0.9559\n",
            "Epoch 8/17\n",
            "1589/1589 [==============================] - 1s 862us/step - loss: 0.1076 - accuracy: 0.9592\n",
            "Epoch 9/17\n",
            "1589/1589 [==============================] - 1s 894us/step - loss: 0.1166 - accuracy: 0.9558\n",
            "Epoch 10/17\n",
            "1589/1589 [==============================] - 1s 876us/step - loss: 0.1171 - accuracy: 0.9563\n",
            "Epoch 11/17\n",
            "1589/1589 [==============================] - 1s 865us/step - loss: 0.1141 - accuracy: 0.9581\n",
            "Epoch 12/17\n",
            "1589/1589 [==============================] - 1s 871us/step - loss: 0.1030 - accuracy: 0.9592\n",
            "Epoch 13/17\n",
            "1589/1589 [==============================] - 1s 863us/step - loss: 0.1091 - accuracy: 0.9590\n",
            "Epoch 14/17\n",
            "1589/1589 [==============================] - 1s 870us/step - loss: 0.1111 - accuracy: 0.9566\n",
            "Epoch 15/17\n",
            "1589/1589 [==============================] - 1s 839us/step - loss: 0.1065 - accuracy: 0.9600\n",
            "Epoch 16/17\n",
            "1589/1589 [==============================] - 1s 866us/step - loss: 0.1156 - accuracy: 0.9569\n",
            "Epoch 17/17\n",
            "1589/1589 [==============================] - 1s 871us/step - loss: 0.1093 - accuracy: 0.9592\n"
          ],
          "name": "stdout"
        },
        {
          "output_type": "execute_result",
          "data": {
            "text/plain": [
              "<tensorflow.python.keras.callbacks.History at 0x7f5c934ab250>"
            ]
          },
          "metadata": {
            "tags": []
          },
          "execution_count": 109
        }
      ]
    },
    {
      "cell_type": "markdown",
      "metadata": {
        "id": "dvOvxel-Nez0"
      },
      "source": [
        "As we can see above the model provided the highest accuracy."
      ]
    },
    {
      "cell_type": "code",
      "metadata": {
        "id": "CuMjgjFApP6D"
      },
      "source": [
        "# model.save('my_model_adam.h5') "
      ],
      "execution_count": null,
      "outputs": []
    },
    {
      "cell_type": "code",
      "metadata": {
        "id": "AcXMYLSwpwgv"
      },
      "source": [
        "# # Recreate the exact same model, including its weights and the optimizer\n",
        "# new_model = tf.keras.models.load_model('my_model_adam.h5')\n",
        "\n",
        "# # Show the model architecture\n",
        "# new_model.summary()"
      ],
      "execution_count": null,
      "outputs": []
    },
    {
      "cell_type": "code",
      "metadata": {
        "id": "jpTZa1kzHNpT"
      },
      "source": [
        "#new_model.get_weights"
      ],
      "execution_count": null,
      "outputs": []
    },
    {
      "cell_type": "code",
      "metadata": {
        "id": "-6IlTgYKHVl5"
      },
      "source": [
        "#new_model.optimizer"
      ],
      "execution_count": null,
      "outputs": []
    },
    {
      "cell_type": "code",
      "metadata": {
        "id": "3I-mUMgRqSTk"
      },
      "source": [
        "# loss, acc = new_model.evaluate(X_val_std, y_validation, verbose=2)\n",
        "# print('Restored model, accuracy: {:5.2f}%'.format(100 * acc))"
      ],
      "execution_count": null,
      "outputs": []
    },
    {
      "cell_type": "code",
      "metadata": {
        "id": "kEwURKCJq2sG"
      },
      "source": [
        "# loss, acc = new_model_01.evaluate(X_val_std, y_validation, verbose=2)\n",
        "# print('Restored model, accuracy: {:5.2f}%'.format(100 * acc))"
      ],
      "execution_count": null,
      "outputs": []
    },
    {
      "cell_type": "markdown",
      "metadata": {
        "id": "d9shyS1YMjYG"
      },
      "source": [
        "#3 Model Evaluation"
      ]
    },
    {
      "cell_type": "markdown",
      "metadata": {
        "id": "lLHviGQeMyX2"
      },
      "source": [
        "We trained several models and compared their accuracies performance, then the next step was choosing one model and evaluating the model with unseen data. At the bigning, we splitted the dataset into three parts, we used the train and validation dataset to train different models to choose the best model with the highet accuracy and the test dataset to evaluate the model.So we evaluted the chosen model using the test data.\n",
        "As we can see below the accuracy is high for the test dataset."
      ]
    },
    {
      "cell_type": "code",
      "metadata": {
        "id": "-EtykJXzq19X",
        "colab": {
          "base_uri": "https://localhost:8080/"
        },
        "outputId": "d26014e6-348f-4340-c998-d9030f8937e3"
      },
      "source": [
        "\n",
        "\n",
        "y_pred = model.predict(X_test_std)\n",
        "y_pred_classes = [np.argmax(element) for element in y_pred]\n",
        "target_names=list(class_le.inverse_transform(y.unique()))\n",
        "\n",
        "print(\"Classification Report: \\n\", classification_report(y_test, y_pred_classes,target_names = target_names))\n",
        "\n",
        "# This report shows the evaluation of different metrics of this model for each class "
      ],
      "execution_count": null,
      "outputs": [
        {
          "output_type": "stream",
          "text": [
            "Classification Report: \n",
            "               precision    recall  f1-score   support\n",
            "\n",
            "       SEKER       0.98      0.97      0.98       709\n",
            "    BARBUNYA       1.00      1.00      1.00       709\n",
            "      BOMBAY       0.97      0.97      0.97       709\n",
            "        CALI       0.92      0.91      0.91       709\n",
            "       HOROZ       0.97      0.97      0.97       709\n",
            "        SIRA       0.97      0.97      0.97       709\n",
            "    DERMASON       0.88      0.92      0.90       709\n",
            "\n",
            "    accuracy                           0.96      4963\n",
            "   macro avg       0.96      0.96      0.96      4963\n",
            "weighted avg       0.96      0.96      0.96      4963\n",
            "\n"
          ],
          "name": "stdout"
        }
      ]
    },
    {
      "cell_type": "markdown",
      "metadata": {
        "id": "JWjoVkuyPklo"
      },
      "source": [
        "#4 Conclusion"
      ]
    },
    {
      "cell_type": "markdown",
      "metadata": {
        "id": "rZB43zVeTYUN"
      },
      "source": [
        " We implemented several machine learning algorithms and techniques to classify the beans into 7 categories.\n",
        "Among the models we used Bagging, SVM nonlinear kernel and keras TensorFlow  models provided the highest accuracy  more than 95%.\n",
        " Besides, Keras provided the highest accuracy for unseen(test) data with 95%.\n",
        " The accuracy would be increased if suture axis and texture of beans were considered.\n"
      ]
    },
    {
      "cell_type": "code",
      "metadata": {
        "id": "k0WJtrX7QbYP"
      },
      "source": [
        ""
      ],
      "execution_count": null,
      "outputs": []
    }
  ]
}